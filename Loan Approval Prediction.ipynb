{
 "cells": [
  {
   "cell_type": "markdown",
   "id": "45d82f5a",
   "metadata": {},
   "source": [
    "### Loan Approval Prediction \n"
   ]
  },
  {
   "cell_type": "code",
   "execution_count": 73,
   "id": "04fb37db",
   "metadata": {
    "id": "04fb37db"
   },
   "outputs": [],
   "source": [
    "import pandas as pd\n",
    "import numpy as np\n",
    "import seaborn as sns\n",
    "import matplotlib.pyplot as plt\n",
    "\n",
    "\n",
    "from sklearn import metrics\n",
    "from sklearn.neighbors import KNeighborsClassifier\n",
    "from sklearn.linear_model import LogisticRegression\n",
    "from sklearn.model_selection import train_test_split, cross_val_score, GridSearchCV\n",
    "from sklearn.preprocessing import StandardScaler\n",
    "from sklearn.preprocessing import MinMaxScaler\n",
    "from sklearn.metrics import confusion_matrix, classification_report, roc_auc_score\n",
    "from sklearn.decomposition import PCA\n",
    "from sklearn.datasets import make_classification\n",
    "from imblearn.over_sampling import SMOTE\n",
    "from sklearn.svm import SVC\n",
    "\n",
    "from sklearn.naive_bayes import GaussianNB\n",
    "from sklearn.metrics import ConfusionMatrixDisplay\n",
    "\n",
    "plt.rcParams[\"figure.figsize\"] = (6,5)\n",
    "\n",
    "import warnings\n",
    "warnings.filterwarnings(\"ignore\")"
   ]
  },
  {
   "cell_type": "markdown",
   "id": "KtMUlgwx39T4",
   "metadata": {
    "id": "KtMUlgwx39T4"
   },
   "source": [
    "# Data visualization"
   ]
  },
  {
   "cell_type": "code",
   "execution_count": 74,
   "id": "236429bb",
   "metadata": {
    "colab": {
     "base_uri": "https://localhost:8080/"
    },
    "id": "236429bb",
    "outputId": "f18d0b2a-9664-4739-8b3d-67f655f67e47"
   },
   "outputs": [
    {
     "data": {
      "text/html": [
       "<div>\n",
       "<style scoped>\n",
       "    .dataframe tbody tr th:only-of-type {\n",
       "        vertical-align: middle;\n",
       "    }\n",
       "\n",
       "    .dataframe tbody tr th {\n",
       "        vertical-align: top;\n",
       "    }\n",
       "\n",
       "    .dataframe thead th {\n",
       "        text-align: right;\n",
       "    }\n",
       "</style>\n",
       "<table border=\"1\" class=\"dataframe\">\n",
       "  <thead>\n",
       "    <tr style=\"text-align: right;\">\n",
       "      <th></th>\n",
       "      <th>Loan_ID</th>\n",
       "      <th>Gender</th>\n",
       "      <th>Married</th>\n",
       "      <th>Dependents</th>\n",
       "      <th>Education</th>\n",
       "      <th>Self_Employed</th>\n",
       "      <th>ApplicantIncome</th>\n",
       "      <th>CoapplicantIncome</th>\n",
       "      <th>LoanAmount</th>\n",
       "      <th>Loan_Amount_Term</th>\n",
       "      <th>Credit_History</th>\n",
       "      <th>Property_Area</th>\n",
       "      <th>Loan_Status</th>\n",
       "    </tr>\n",
       "  </thead>\n",
       "  <tbody>\n",
       "    <tr>\n",
       "      <th>0</th>\n",
       "      <td>LP001002</td>\n",
       "      <td>Male</td>\n",
       "      <td>No</td>\n",
       "      <td>0</td>\n",
       "      <td>Graduate</td>\n",
       "      <td>No</td>\n",
       "      <td>5849</td>\n",
       "      <td>0.0</td>\n",
       "      <td>NaN</td>\n",
       "      <td>360.0</td>\n",
       "      <td>1.0</td>\n",
       "      <td>Urban</td>\n",
       "      <td>Y</td>\n",
       "    </tr>\n",
       "    <tr>\n",
       "      <th>1</th>\n",
       "      <td>LP001003</td>\n",
       "      <td>Male</td>\n",
       "      <td>Yes</td>\n",
       "      <td>1</td>\n",
       "      <td>Graduate</td>\n",
       "      <td>No</td>\n",
       "      <td>4583</td>\n",
       "      <td>1508.0</td>\n",
       "      <td>128.0</td>\n",
       "      <td>360.0</td>\n",
       "      <td>1.0</td>\n",
       "      <td>Rural</td>\n",
       "      <td>N</td>\n",
       "    </tr>\n",
       "    <tr>\n",
       "      <th>2</th>\n",
       "      <td>LP001005</td>\n",
       "      <td>Male</td>\n",
       "      <td>Yes</td>\n",
       "      <td>0</td>\n",
       "      <td>Graduate</td>\n",
       "      <td>Yes</td>\n",
       "      <td>3000</td>\n",
       "      <td>0.0</td>\n",
       "      <td>66.0</td>\n",
       "      <td>360.0</td>\n",
       "      <td>1.0</td>\n",
       "      <td>Urban</td>\n",
       "      <td>Y</td>\n",
       "    </tr>\n",
       "    <tr>\n",
       "      <th>3</th>\n",
       "      <td>LP001006</td>\n",
       "      <td>Male</td>\n",
       "      <td>Yes</td>\n",
       "      <td>0</td>\n",
       "      <td>Not Graduate</td>\n",
       "      <td>No</td>\n",
       "      <td>2583</td>\n",
       "      <td>2358.0</td>\n",
       "      <td>120.0</td>\n",
       "      <td>360.0</td>\n",
       "      <td>1.0</td>\n",
       "      <td>Urban</td>\n",
       "      <td>Y</td>\n",
       "    </tr>\n",
       "    <tr>\n",
       "      <th>4</th>\n",
       "      <td>LP001008</td>\n",
       "      <td>Male</td>\n",
       "      <td>No</td>\n",
       "      <td>0</td>\n",
       "      <td>Graduate</td>\n",
       "      <td>No</td>\n",
       "      <td>6000</td>\n",
       "      <td>0.0</td>\n",
       "      <td>141.0</td>\n",
       "      <td>360.0</td>\n",
       "      <td>1.0</td>\n",
       "      <td>Urban</td>\n",
       "      <td>Y</td>\n",
       "    </tr>\n",
       "  </tbody>\n",
       "</table>\n",
       "</div>"
      ],
      "text/plain": [
       "    Loan_ID Gender Married Dependents     Education Self_Employed  \\\n",
       "0  LP001002   Male      No          0      Graduate            No   \n",
       "1  LP001003   Male     Yes          1      Graduate            No   \n",
       "2  LP001005   Male     Yes          0      Graduate           Yes   \n",
       "3  LP001006   Male     Yes          0  Not Graduate            No   \n",
       "4  LP001008   Male      No          0      Graduate            No   \n",
       "\n",
       "   ApplicantIncome  CoapplicantIncome  LoanAmount  Loan_Amount_Term  \\\n",
       "0             5849                0.0         NaN             360.0   \n",
       "1             4583             1508.0       128.0             360.0   \n",
       "2             3000                0.0        66.0             360.0   \n",
       "3             2583             2358.0       120.0             360.0   \n",
       "4             6000                0.0       141.0             360.0   \n",
       "\n",
       "   Credit_History Property_Area Loan_Status  \n",
       "0             1.0         Urban           Y  \n",
       "1             1.0         Rural           N  \n",
       "2             1.0         Urban           Y  \n",
       "3             1.0         Urban           Y  \n",
       "4             1.0         Urban           Y  "
      ]
     },
     "execution_count": 74,
     "metadata": {},
     "output_type": "execute_result"
    }
   ],
   "source": [
    "dataset = pd.read_csv('loan_dataset.csv')\n",
    "dataset.head()"
   ]
  },
  {
   "cell_type": "code",
   "execution_count": 75,
   "id": "b2522b3a",
   "metadata": {
    "colab": {
     "base_uri": "https://localhost:8080/"
    },
    "id": "b2522b3a",
    "outputId": "e2e5c90b-9055-4697-9849-24b912f12c64"
   },
   "outputs": [
    {
     "data": {
      "text/plain": [
       "(614, 13)"
      ]
     },
     "execution_count": 75,
     "metadata": {},
     "output_type": "execute_result"
    }
   ],
   "source": [
    "dataset.shape"
   ]
  },
  {
   "cell_type": "code",
   "execution_count": 76,
   "id": "b4f59746",
   "metadata": {
    "colab": {
     "base_uri": "https://localhost:8080/"
    },
    "id": "b4f59746",
    "outputId": "c3475173-c63e-49e0-8416-14a01e8573d4"
   },
   "outputs": [
    {
     "data": {
      "text/plain": [
       "<bound method DataFrame.info of       Loan_ID  Gender Married Dependents     Education Self_Employed  \\\n",
       "0    LP001002    Male      No          0      Graduate            No   \n",
       "1    LP001003    Male     Yes          1      Graduate            No   \n",
       "2    LP001005    Male     Yes          0      Graduate           Yes   \n",
       "3    LP001006    Male     Yes          0  Not Graduate            No   \n",
       "4    LP001008    Male      No          0      Graduate            No   \n",
       "..        ...     ...     ...        ...           ...           ...   \n",
       "609  LP002978  Female      No          0      Graduate            No   \n",
       "610  LP002979    Male     Yes         3+      Graduate            No   \n",
       "611  LP002983    Male     Yes          1      Graduate            No   \n",
       "612  LP002984    Male     Yes          2      Graduate            No   \n",
       "613  LP002990  Female      No          0      Graduate           Yes   \n",
       "\n",
       "     ApplicantIncome  CoapplicantIncome  LoanAmount  Loan_Amount_Term  \\\n",
       "0               5849                0.0         NaN             360.0   \n",
       "1               4583             1508.0       128.0             360.0   \n",
       "2               3000                0.0        66.0             360.0   \n",
       "3               2583             2358.0       120.0             360.0   \n",
       "4               6000                0.0       141.0             360.0   \n",
       "..               ...                ...         ...               ...   \n",
       "609             2900                0.0        71.0             360.0   \n",
       "610             4106                0.0        40.0             180.0   \n",
       "611             8072              240.0       253.0             360.0   \n",
       "612             7583                0.0       187.0             360.0   \n",
       "613             4583                0.0       133.0             360.0   \n",
       "\n",
       "     Credit_History Property_Area Loan_Status  \n",
       "0               1.0         Urban           Y  \n",
       "1               1.0         Rural           N  \n",
       "2               1.0         Urban           Y  \n",
       "3               1.0         Urban           Y  \n",
       "4               1.0         Urban           Y  \n",
       "..              ...           ...         ...  \n",
       "609             1.0         Rural           Y  \n",
       "610             1.0         Rural           Y  \n",
       "611             1.0         Urban           Y  \n",
       "612             1.0         Urban           Y  \n",
       "613             0.0     Semiurban           N  \n",
       "\n",
       "[614 rows x 13 columns]>"
      ]
     },
     "execution_count": 76,
     "metadata": {},
     "output_type": "execute_result"
    }
   ],
   "source": [
    "dataset.info"
   ]
  },
  {
   "cell_type": "code",
   "execution_count": 77,
   "id": "e73471a2",
   "metadata": {
    "colab": {
     "base_uri": "https://localhost:8080/"
    },
    "id": "e73471a2",
    "outputId": "ae43dba2-e393-4533-9eb1-58c104e82ecc"
   },
   "outputs": [
    {
     "data": {
      "text/html": [
       "<div>\n",
       "<style scoped>\n",
       "    .dataframe tbody tr th:only-of-type {\n",
       "        vertical-align: middle;\n",
       "    }\n",
       "\n",
       "    .dataframe tbody tr th {\n",
       "        vertical-align: top;\n",
       "    }\n",
       "\n",
       "    .dataframe thead th {\n",
       "        text-align: right;\n",
       "    }\n",
       "</style>\n",
       "<table border=\"1\" class=\"dataframe\">\n",
       "  <thead>\n",
       "    <tr style=\"text-align: right;\">\n",
       "      <th></th>\n",
       "      <th>ApplicantIncome</th>\n",
       "      <th>CoapplicantIncome</th>\n",
       "      <th>LoanAmount</th>\n",
       "      <th>Loan_Amount_Term</th>\n",
       "      <th>Credit_History</th>\n",
       "    </tr>\n",
       "  </thead>\n",
       "  <tbody>\n",
       "    <tr>\n",
       "      <th>count</th>\n",
       "      <td>614.000000</td>\n",
       "      <td>614.000000</td>\n",
       "      <td>592.000000</td>\n",
       "      <td>600.00000</td>\n",
       "      <td>564.000000</td>\n",
       "    </tr>\n",
       "    <tr>\n",
       "      <th>mean</th>\n",
       "      <td>5403.459283</td>\n",
       "      <td>1621.245798</td>\n",
       "      <td>146.412162</td>\n",
       "      <td>342.00000</td>\n",
       "      <td>0.842199</td>\n",
       "    </tr>\n",
       "    <tr>\n",
       "      <th>std</th>\n",
       "      <td>6109.041673</td>\n",
       "      <td>2926.248369</td>\n",
       "      <td>85.587325</td>\n",
       "      <td>65.12041</td>\n",
       "      <td>0.364878</td>\n",
       "    </tr>\n",
       "    <tr>\n",
       "      <th>min</th>\n",
       "      <td>150.000000</td>\n",
       "      <td>0.000000</td>\n",
       "      <td>9.000000</td>\n",
       "      <td>12.00000</td>\n",
       "      <td>0.000000</td>\n",
       "    </tr>\n",
       "    <tr>\n",
       "      <th>25%</th>\n",
       "      <td>2877.500000</td>\n",
       "      <td>0.000000</td>\n",
       "      <td>100.000000</td>\n",
       "      <td>360.00000</td>\n",
       "      <td>1.000000</td>\n",
       "    </tr>\n",
       "    <tr>\n",
       "      <th>50%</th>\n",
       "      <td>3812.500000</td>\n",
       "      <td>1188.500000</td>\n",
       "      <td>128.000000</td>\n",
       "      <td>360.00000</td>\n",
       "      <td>1.000000</td>\n",
       "    </tr>\n",
       "    <tr>\n",
       "      <th>75%</th>\n",
       "      <td>5795.000000</td>\n",
       "      <td>2297.250000</td>\n",
       "      <td>168.000000</td>\n",
       "      <td>360.00000</td>\n",
       "      <td>1.000000</td>\n",
       "    </tr>\n",
       "    <tr>\n",
       "      <th>max</th>\n",
       "      <td>81000.000000</td>\n",
       "      <td>41667.000000</td>\n",
       "      <td>700.000000</td>\n",
       "      <td>480.00000</td>\n",
       "      <td>1.000000</td>\n",
       "    </tr>\n",
       "  </tbody>\n",
       "</table>\n",
       "</div>"
      ],
      "text/plain": [
       "       ApplicantIncome  CoapplicantIncome  LoanAmount  Loan_Amount_Term  \\\n",
       "count       614.000000         614.000000  592.000000         600.00000   \n",
       "mean       5403.459283        1621.245798  146.412162         342.00000   \n",
       "std        6109.041673        2926.248369   85.587325          65.12041   \n",
       "min         150.000000           0.000000    9.000000          12.00000   \n",
       "25%        2877.500000           0.000000  100.000000         360.00000   \n",
       "50%        3812.500000        1188.500000  128.000000         360.00000   \n",
       "75%        5795.000000        2297.250000  168.000000         360.00000   \n",
       "max       81000.000000       41667.000000  700.000000         480.00000   \n",
       "\n",
       "       Credit_History  \n",
       "count      564.000000  \n",
       "mean         0.842199  \n",
       "std          0.364878  \n",
       "min          0.000000  \n",
       "25%          1.000000  \n",
       "50%          1.000000  \n",
       "75%          1.000000  \n",
       "max          1.000000  "
      ]
     },
     "execution_count": 77,
     "metadata": {},
     "output_type": "execute_result"
    }
   ],
   "source": [
    "# gives the info for numerical columns\n",
    "dataset.describe()"
   ]
  },
  {
   "cell_type": "code",
   "execution_count": 78,
   "id": "rn2rI2RAu1Yr",
   "metadata": {
    "colab": {
     "base_uri": "https://localhost:8080/"
    },
    "id": "rn2rI2RAu1Yr",
    "outputId": "86f85fa0-a4be-481b-c037-84b859b6d0b5"
   },
   "outputs": [
    {
     "data": {
      "text/plain": [
       "<AxesSubplot:>"
      ]
     },
     "execution_count": 78,
     "metadata": {},
     "output_type": "execute_result"
    },
    {
     "data": {
      "image/png": "[encoded data removed]",
      "text/plain": [
       "<Figure size 720x504 with 2 Axes>"
      ]
     },
     "metadata": {},
     "output_type": "display_data"
    }
   ],
   "source": [
    "plt.figure(figsize=(10,7))\n",
    "sns.heatmap(dataset[['ApplicantIncome', 'CoapplicantIncome', 'LoanAmount', 'Loan_Amount_Term', 'Credit_History']].corr(), annot=True, cmap='inferno') "
   ]
  },
  {
   "cell_type": "code",
   "execution_count": 79,
   "id": "b52ac311",
   "metadata": {
    "colab": {
     "base_uri": "https://localhost:8080/"
    },
    "id": "b52ac311",
    "outputId": "3da91584-4d4d-405e-eceb-9f4bc2c1d0ef"
   },
   "outputs": [
    {
     "data": {
      "text/plain": [
       "<AxesSubplot:xlabel='Loan_Status', ylabel='count'>"
      ]
     },
     "execution_count": 79,
     "metadata": {},
     "output_type": "execute_result"
    },
    {
     "data": {
      "image/png": "[encoded data removed]",
      "text/plain": [
       "<Figure size 432x360 with 1 Axes>"
      ]
     },
     "metadata": {},
     "output_type": "display_data"
    }
   ],
   "source": [
    "# check if the data is imbalanced\n",
    "sns.set_style('whitegrid')\n",
    "sns.countplot(x='Loan_Status',data=dataset)"
   ]
  },
  {
   "cell_type": "code",
   "execution_count": 80,
   "id": "4bc160a1",
   "metadata": {
    "colab": {
     "base_uri": "https://localhost:8080/"
    },
    "id": "4bc160a1",
    "outputId": "575c56c0-de8a-4674-808d-08af27fd2836"
   },
   "outputs": [
    {
     "data": {
      "text/plain": [
       "Y    68.729642\n",
       "N    31.270358\n",
       "Name: Loan_Status, dtype: float64"
      ]
     },
     "execution_count": 80,
     "metadata": {},
     "output_type": "execute_result"
    }
   ],
   "source": [
    "# see the chart in details\n",
    "dataset['Loan_Status'].value_counts()/len(dataset)*100\n"
   ]
  },
  {
   "cell_type": "code",
   "execution_count": 81,
   "id": "48824ae0",
   "metadata": {
    "colab": {
     "base_uri": "https://localhost:8080/"
    },
    "id": "48824ae0",
    "outputId": "c2c4e2b7-9fef-47c2-a8a6-d1d9746bb31f"
   },
   "outputs": [
    {
     "data": {
      "text/plain": [
       "Loan_ID               0\n",
       "Gender               13\n",
       "Married               3\n",
       "Dependents           15\n",
       "Education             0\n",
       "Self_Employed        32\n",
       "ApplicantIncome       0\n",
       "CoapplicantIncome     0\n",
       "LoanAmount           22\n",
       "Loan_Amount_Term     14\n",
       "Credit_History       50\n",
       "Property_Area         0\n",
       "Loan_Status           0\n",
       "dtype: int64"
      ]
     },
     "execution_count": 81,
     "metadata": {},
     "output_type": "execute_result"
    }
   ],
   "source": [
    "# check if we have null values\n",
    "dataset.isnull().sum()"
   ]
  },
  {
   "cell_type": "code",
   "execution_count": 82,
   "id": "099b4a79",
   "metadata": {
    "colab": {
     "base_uri": "https://localhost:8080/"
    },
    "id": "099b4a79",
    "outputId": "4438ec5f-fc71-43c3-d4ab-6dcb8ece8d27"
   },
   "outputs": [
    {
     "name": "stdout",
     "output_type": "stream",
     "text": [
      "Number of numerical variables:  5\n",
      "['ApplicantIncome', 'CoapplicantIncome', 'LoanAmount', 'Loan_Amount_Term', 'Credit_History']\n"
     ]
    }
   ],
   "source": [
    "# divide the numerical from categorical features\n",
    "\n",
    "numerical_features = [feature for feature in dataset.columns if dataset[feature].dtypes != 'O']\n",
    "\n",
    "print('Number of numerical variables: ', len(numerical_features))\n",
    "print(numerical_features)"
   ]
  },
  {
   "cell_type": "code",
   "execution_count": 83,
   "id": "9288d944",
   "metadata": {
    "colab": {
     "base_uri": "https://localhost:8080/"
    },
    "id": "9288d944",
    "outputId": "825f1395-d98f-414d-a27e-61a6c64c23b4"
   },
   "outputs": [
    {
     "name": "stdout",
     "output_type": "stream",
     "text": [
      "Discrete Variables Count: 2\n",
      "['Loan_Amount_Term', 'Credit_History']\n"
     ]
    }
   ],
   "source": [
    "# numerical is divided in discrete and continuous\n",
    "\n",
    "df=dataset\n",
    "discrete_features=[feature for feature in numerical_features if len(df[feature].unique())<15]\n",
    "print(\"Discrete Variables Count: {}\".format(len(discrete_features)))\n",
    "print(discrete_features)"
   ]
  },
  {
   "cell_type": "code",
   "execution_count": 84,
   "id": "fce3857a",
   "metadata": {
    "colab": {
     "base_uri": "https://localhost:8080/"
    },
    "id": "fce3857a",
    "outputId": "ce5e3760-f4d5-4ab7-d642-96b31676530c"
   },
   "outputs": [
    {
     "data": {
      "text/plain": [
       "array([360., 120., 240.,  nan, 180.,  60., 300., 480.,  36.,  84.,  12.])"
      ]
     },
     "execution_count": 84,
     "metadata": {},
     "output_type": "execute_result"
    }
   ],
   "source": [
    "df['Loan_Amount_Term'].unique()"
   ]
  },
  {
   "cell_type": "code",
   "execution_count": 85,
   "id": "75ee2478",
   "metadata": {
    "colab": {
     "base_uri": "https://localhost:8080/"
    },
    "id": "75ee2478",
    "outputId": "626a0f61-db40-4a94-f81b-77509e55eada"
   },
   "outputs": [
    {
     "data": {
      "image/png": "[encoded data removed]",
      "text/plain": [
       "<Figure size 432x360 with 1 Axes>"
      ]
     },
     "metadata": {},
     "output_type": "display_data"
    },
    {
     "name": "stdout",
     "output_type": "stream",
     "text": [
      "\n"
     ]
    },
    {
     "data": {
      "image/png": "[encoded data removed]",
      "text/plain": [
       "<Figure size 432x360 with 1 Axes>"
      ]
     },
     "metadata": {},
     "output_type": "display_data"
    },
    {
     "name": "stdout",
     "output_type": "stream",
     "text": [
      "\n"
     ]
    }
   ],
   "source": [
    "# plot the absolute frequencies for each feature\n",
    "sns.set_style('whitegrid')\n",
    "\n",
    "for feature in discrete_features:\n",
    "    sns.countplot(x=feature, data=df)\n",
    "    plt.xlabel(feature)\n",
    "    plt.ylabel('Count')\n",
    "    plt.title(feature)\n",
    "    plt.show()\n",
    "\n",
    "    print()"
   ]
  },
  {
   "cell_type": "code",
   "execution_count": 86,
   "id": "679db9b8",
   "metadata": {
    "colab": {
     "base_uri": "https://localhost:8080/"
    },
    "id": "679db9b8",
    "outputId": "6ab43234-f951-4926-9572-cf834ccdfddb"
   },
   "outputs": [
    {
     "data": {
      "image/png": "[encoded data removed]",
      "text/plain": [
       "<Figure size 432x360 with 1 Axes>"
      ]
     },
     "metadata": {},
     "output_type": "display_data"
    },
    {
     "data": {
      "image/png": "[encoded data removed]",
      "text/plain": [
       "<Figure size 432x360 with 1 Axes>"
      ]
     },
     "metadata": {},
     "output_type": "display_data"
    }
   ],
   "source": [
    "#substitute the target values with 1 and 0\n",
    "df['Loan_Status'] = df['Loan_Status'].map({'Y': 1,'N' : 0})\n",
    "\n",
    "for feature in discrete_features:\n",
    "    data=df.copy()\n",
    "    data.groupby(feature)['Loan_Status'].mean().plot.bar()\n",
    "    plt.xlabel(feature)\n",
    "    plt.ylabel('Loan_Status')\n",
    "    plt.title(feature)\n",
    "    plt.show()"
   ]
  },
  {
   "cell_type": "code",
   "execution_count": 87,
   "id": "4f602c39",
   "metadata": {
    "colab": {
     "base_uri": "https://localhost:8080/"
    },
    "id": "4f602c39",
    "outputId": "c3b38b61-9dba-45d6-e681-bd30d2bee8c8"
   },
   "outputs": [
    {
     "name": "stdout",
     "output_type": "stream",
     "text": [
      "Continuous feature Count 3\n",
      "['ApplicantIncome', 'CoapplicantIncome', 'LoanAmount']\n"
     ]
    }
   ],
   "source": [
    "# continuous features\n",
    "\n",
    "continuous_feature=[feature for feature in numerical_features if feature not in discrete_features]\n",
    "print(\"Continuous feature Count {}\".format(len(continuous_feature)))\n",
    "print(continuous_feature)"
   ]
  },
  {
   "cell_type": "code",
   "execution_count": 88,
   "id": "214bcd93",
   "metadata": {
    "colab": {
     "base_uri": "https://localhost:8080/"
    },
    "id": "214bcd93",
    "outputId": "6c269344-80a2-4d9d-ba7a-559937a96e9d"
   },
   "outputs": [
    {
     "data": {
      "image/png": "[encoded data removed]",
      "text/plain": [
       "<Figure size 576x288 with 1 Axes>"
      ]
     },
     "metadata": {},
     "output_type": "display_data"
    },
    {
     "data": {
      "image/png": "[encoded data removed]",
      "text/plain": [
       "<Figure size 576x288 with 1 Axes>"
      ]
     },
     "metadata": {},
     "output_type": "display_data"
    },
    {
     "data": {
      "image/png": "[encoded data removed]",
      "text/plain": [
       "<Figure size 576x288 with 1 Axes>"
      ]
     },
     "metadata": {},
     "output_type": "display_data"
    },
    {
     "name": "stdout",
     "output_type": "stream",
     "text": [
      "5403.459283387622\n",
      "3812.5\n"
     ]
    }
   ],
   "source": [
    "for feature in continuous_feature:\n",
    "    data=df.copy()\n",
    "    data[feature].hist(color='green',bins=40,figsize=(8,4)) \n",
    "    plt.xlabel(feature)\n",
    "    plt.ylabel(\"Count\")\n",
    "    plt.title(feature)\n",
    "    plt.show()\n",
    "    \n",
    "print(df['ApplicantIncome'].mean())\n",
    "print(df['ApplicantIncome'].median())\n",
    "\n",
    "# normal dist- mean and median are close to each-other\n",
    "# right skewed-  MEAN > MEDIAN\n",
    "# left skewed - MEAN < MEDIAN\n",
    "\n",
    "# first graph - more skewed than normal\n",
    "# second - skewed to the right\n",
    "# third is close to a normal distribution"
   ]
  },
  {
   "cell_type": "code",
   "execution_count": 89,
   "id": "2d3df536",
   "metadata": {
    "colab": {
     "base_uri": "https://localhost:8080/"
    },
    "id": "2d3df536",
    "outputId": "b083b9df-0d3d-46ac-a218-a7c5bb292624"
   },
   "outputs": [
    {
     "data": {
      "image/png": "[encoded data removed]",
      "text/plain": [
       "<Figure size 432x360 with 1 Axes>"
      ]
     },
     "metadata": {},
     "output_type": "display_data"
    },
    {
     "data": {
      "image/png": "[encoded data removed]",
      "text/plain": [
       "<Figure size 432x360 with 1 Axes>"
      ]
     },
     "metadata": {},
     "output_type": "display_data"
    },
    {
     "data": {
      "image/png": "[encoded data removed]",
      "text/plain": [
       "<Figure size 432x360 with 1 Axes>"
      ]
     },
     "metadata": {},
     "output_type": "display_data"
    }
   ],
   "source": [
    "# boxplot every continuous feature\n",
    "#group every feature according to the target\n",
    "\n",
    "# first plot - same level \n",
    "\n",
    "for feature in continuous_feature:\n",
    "    data=df.copy()\n",
    "    data.boxplot(column=feature, by='Loan_Status')\n",
    "    plt.xlabel('Loan_Status')\n",
    "    plt.ylabel(feature)\n",
    "    plt.title(feature)\n",
    "    plt.show()"
   ]
  },
  {
   "cell_type": "code",
   "execution_count": 90,
   "id": "93b2959a",
   "metadata": {
    "colab": {
     "base_uri": "https://localhost:8080/"
    },
    "id": "93b2959a",
    "outputId": "f45a556b-6927-44d1-c076-2828224add9b"
   },
   "outputs": [
    {
     "data": {
      "image/png": "[encoded data removed]",
      "text/plain": [
       "<Figure size 432x360 with 1 Axes>"
      ]
     },
     "metadata": {},
     "output_type": "display_data"
    },
    {
     "data": {
      "image/png": "[encoded data removed]",
      "text/plain": [
       "<Figure size 432x360 with 1 Axes>"
      ]
     },
     "metadata": {},
     "output_type": "display_data"
    },
    {
     "data": {
      "image/png": "[encoded data removed]",
      "text/plain": [
       "<Figure size 432x360 with 1 Axes>"
      ]
     },
     "metadata": {},
     "output_type": "display_data"
    }
   ],
   "source": [
    "# I chose median as the dataset has outliers\n",
    "for feature in continuous_feature:\n",
    "    data=df.copy()\n",
    "    data.groupby('Loan_Status')[feature].median().plot.bar()\n",
    "    plt.xlabel('Loan_Status')\n",
    "    plt.ylabel(feature)\n",
    "    plt.title(feature)\n",
    "    plt.show()"
   ]
  },
  {
   "cell_type": "code",
   "execution_count": 91,
   "id": "faee8a88",
   "metadata": {
    "colab": {
     "base_uri": "https://localhost:8080/"
    },
    "id": "faee8a88",
    "outputId": "f1fe3388-367c-42b6-ed95-1fbf6e119903"
   },
   "outputs": [
    {
     "name": "stdout",
     "output_type": "stream",
     "text": [
      "6\n",
      "['Gender', 'Married', 'Dependents', 'Education', 'Self_Employed', 'Property_Area']\n"
     ]
    }
   ],
   "source": [
    "# categorical variables \n",
    "\n",
    "categorical_features=[feature for feature in df.columns if df[feature].dtypes=='O' and feature not in ['Loan_ID']]\n",
    "print(len(categorical_features))\n",
    "print(categorical_features)\n"
   ]
  },
  {
   "cell_type": "code",
   "execution_count": 92,
   "id": "9ec6a0dc",
   "metadata": {
    "colab": {
     "base_uri": "https://localhost:8080/"
    },
    "id": "9ec6a0dc",
    "outputId": "828875ee-0b6f-4168-d550-0348476e4480"
   },
   "outputs": [
    {
     "name": "stdout",
     "output_type": "stream",
     "text": [
      "Feature Gender - Number of Categories 3\n",
      "Feature Married - Number of Categories 3\n",
      "Feature Dependents - Number of Categories 5\n",
      "Feature Education - Number of Categories 2\n",
      "Feature Self_Employed - Number of Categories 3\n",
      "Feature Property_Area - Number of Categories 3\n"
     ]
    }
   ],
   "source": [
    "for feature in categorical_features:\n",
    "    print(f'Feature {feature} - Number of Categories {len(df[feature].unique())}')"
   ]
  },
  {
   "cell_type": "code",
   "execution_count": 93,
   "id": "8328a0dc",
   "metadata": {
    "colab": {
     "base_uri": "https://localhost:8080/"
    },
    "id": "8328a0dc",
    "outputId": "cce63440-1d7a-4842-a920-3d24636efdee"
   },
   "outputs": [
    {
     "data": {
      "image/png": "[encoded data removed]",
      "text/plain": [
       "<Figure size 432x360 with 1 Axes>"
      ]
     },
     "metadata": {},
     "output_type": "display_data"
    },
    {
     "data": {
      "image/png": "[encoded data removed]",
      "text/plain": [
       "<Figure size 432x360 with 1 Axes>"
      ]
     },
     "metadata": {},
     "output_type": "display_data"
    },
    {
     "data": {
      "image/png": "[encoded data removed]",
      "text/plain": [
       "<Figure size 432x360 with 1 Axes>"
      ]
     },
     "metadata": {},
     "output_type": "display_data"
    },
    {
     "data": {
      "image/png": "[encoded data removed]",
      "text/plain": [
       "<Figure size 432x360 with 1 Axes>"
      ]
     },
     "metadata": {},
     "output_type": "display_data"
    },
    {
     "data": {
      "image/png": "[encoded data removed]",
      "text/plain": [
       "<Figure size 432x360 with 1 Axes>"
      ]
     },
     "metadata": {},
     "output_type": "display_data"
    },
    {
     "data": {
      "image/png": "[encoded data removed]",
      "text/plain": [
       "<Figure size 432x360 with 1 Axes>"
      ]
     },
     "metadata": {},
     "output_type": "display_data"
    }
   ],
   "source": [
    "#Frequencies for each category\n",
    "for feature in categorical_features:\n",
    "    data=df.copy()      \n",
    "    sns.countplot(x=feature, data=data)\n",
    "    plt.show()"
   ]
  },
  {
   "cell_type": "code",
   "execution_count": 94,
   "id": "c91d7126",
   "metadata": {
    "colab": {
     "base_uri": "https://localhost:8080/"
    },
    "id": "c91d7126",
    "outputId": "58adf6dd-dae8-4853-af64-56d0667d02f1"
   },
   "outputs": [
    {
     "data": {
      "image/png": "[encoded data removed]",
      "text/plain": [
       "<Figure size 432x360 with 1 Axes>"
      ]
     },
     "metadata": {},
     "output_type": "display_data"
    },
    {
     "name": "stdout",
     "output_type": "stream",
     "text": [
      "\n"
     ]
    },
    {
     "data": {
      "image/png": "[encoded data removed]",
      "text/plain": [
       "<Figure size 432x360 with 1 Axes>"
      ]
     },
     "metadata": {},
     "output_type": "display_data"
    },
    {
     "name": "stdout",
     "output_type": "stream",
     "text": [
      "\n"
     ]
    },
    {
     "data": {
      "image/png": "[encoded data removed]",
      "text/plain": [
       "<Figure size 432x360 with 1 Axes>"
      ]
     },
     "metadata": {},
     "output_type": "display_data"
    },
    {
     "name": "stdout",
     "output_type": "stream",
     "text": [
      "\n"
     ]
    },
    {
     "data": {
      "image/png": "[encoded data removed]",
      "text/plain": [
       "<Figure size 432x360 with 1 Axes>"
      ]
     },
     "metadata": {},
     "output_type": "display_data"
    },
    {
     "name": "stdout",
     "output_type": "stream",
     "text": [
      "\n"
     ]
    },
    {
     "data": {
      "image/png": "[encoded data removed]",
      "text/plain": [
       "<Figure size 432x360 with 1 Axes>"
      ]
     },
     "metadata": {},
     "output_type": "display_data"
    },
    {
     "name": "stdout",
     "output_type": "stream",
     "text": [
      "\n"
     ]
    },
    {
     "data": {
      "image/png": "[encoded data removed]",
      "text/plain": [
       "<Figure size 432x360 with 1 Axes>"
      ]
     },
     "metadata": {},
     "output_type": "display_data"
    },
    {
     "name": "stdout",
     "output_type": "stream",
     "text": [
      "\n"
     ]
    }
   ],
   "source": [
    "# frequencies for each category, grouped by loan status\n",
    "for feature in categorical_features:\n",
    "\n",
    "    data=df.copy()\n",
    "    data.groupby(feature)['Loan_Status'].mean().plot.bar()\n",
    "    plt.xlabel(feature)\n",
    "    plt.ylabel('Loan_Status')\n",
    "    plt.title(feature)\n",
    "    plt.show()   \n",
    "\n",
    "    print()"
   ]
  },
  {
   "cell_type": "markdown",
   "id": "20032e7d",
   "metadata": {
    "id": "20032e7d"
   },
   "source": [
    "# Data pre-processing"
   ]
  },
  {
   "cell_type": "code",
   "execution_count": 95,
   "id": "2b9c850b",
   "metadata": {
    "id": "2b9c850b"
   },
   "outputs": [],
   "source": [
    "# we drop ID column\n",
    "\n",
    "df.drop(columns='Loan_ID',axis=1,inplace=True)"
   ]
  },
  {
   "cell_type": "code",
   "execution_count": 96,
   "id": "85baf803",
   "metadata": {
    "colab": {
     "base_uri": "https://localhost:8080/"
    },
    "id": "85baf803",
    "outputId": "d0efe6d7-c182-47e2-d7ac-8c786e0981f2"
   },
   "outputs": [
    {
     "data": {
      "text/plain": [
       "Gender               2.117264\n",
       "Married              0.488599\n",
       "Dependents           2.442997\n",
       "Education            0.000000\n",
       "Self_Employed        5.211726\n",
       "ApplicantIncome      0.000000\n",
       "CoapplicantIncome    0.000000\n",
       "LoanAmount           3.583062\n",
       "Loan_Amount_Term     2.280130\n",
       "Credit_History       8.143322\n",
       "Property_Area        0.000000\n",
       "Loan_Status          0.000000\n",
       "dtype: float64"
      ]
     },
     "execution_count": 96,
     "metadata": {},
     "output_type": "execute_result"
    }
   ],
   "source": [
    "# check for missing values\n",
    "\n",
    "df.isnull().sum()/len(df)*100\n"
   ]
  },
  {
   "cell_type": "code",
   "execution_count": 97,
   "id": "a83c3df1",
   "metadata": {
    "colab": {
     "base_uri": "https://localhost:8080/"
    },
    "id": "a83c3df1",
    "outputId": "0b741826-617d-4094-d81a-145706441c01"
   },
   "outputs": [
    {
     "name": "stdout",
     "output_type": "stream",
     "text": [
      "['Loan_Amount_Term', 'Credit_History']\n"
     ]
    }
   ],
   "source": [
    "print(discrete_features)"
   ]
  },
  {
   "cell_type": "code",
   "execution_count": 98,
   "id": "ae32fcce",
   "metadata": {
    "id": "ae32fcce"
   },
   "outputs": [],
   "source": [
    "# we substitute it with mode because it's a discrete feature\n",
    "df['Loan_Amount_Term'] = df['Loan_Amount_Term'].fillna(df['Loan_Amount_Term'].mode()[0])"
   ]
  },
  {
   "cell_type": "code",
   "execution_count": 99,
   "id": "cd6e12f6",
   "metadata": {
    "id": "cd6e12f6"
   },
   "outputs": [],
   "source": [
    "# we substitute it with mode because it's a discrete feature\n",
    "df['Credit_History'] = df['Credit_History'].fillna(df['Credit_History'].mode()[0])"
   ]
  },
  {
   "cell_type": "code",
   "execution_count": 100,
   "id": "7bc5ea40",
   "metadata": {
    "colab": {
     "base_uri": "https://localhost:8080/"
    },
    "id": "7bc5ea40",
    "outputId": "0d2e4b43-df27-45db-b23b-7e2fb42e8a2d"
   },
   "outputs": [
    {
     "name": "stdout",
     "output_type": "stream",
     "text": [
      "['ApplicantIncome', 'CoapplicantIncome', 'LoanAmount']\n"
     ]
    }
   ],
   "source": [
    "# continuous features\n",
    "print(continuous_feature)"
   ]
  },
  {
   "cell_type": "code",
   "execution_count": 101,
   "id": "acab3744",
   "metadata": {
    "colab": {
     "base_uri": "https://localhost:8080/"
    },
    "id": "acab3744",
    "outputId": "fc978907-43f2-49dc-8846-f4bb18a6355c"
   },
   "outputs": [
    {
     "data": {
      "text/plain": [
       "<AxesSubplot:xlabel='LoanAmount'>"
      ]
     },
     "execution_count": 101,
     "metadata": {},
     "output_type": "execute_result"
    },
    {
     "data": {
      "image/png": "[encoded data removed]",
      "text/plain": [
       "<Figure size 432x360 with 1 Axes>"
      ]
     },
     "metadata": {},
     "output_type": "display_data"
    }
   ],
   "source": [
    "sns.boxplot(x='LoanAmount',data=df)"
   ]
  },
  {
   "cell_type": "code",
   "execution_count": 102,
   "id": "4bd0796f",
   "metadata": {
    "id": "4bd0796f"
   },
   "outputs": [],
   "source": [
    "# since it has so many outliers, we use median\n",
    "df['LoanAmount'] = df['LoanAmount'].fillna(df['LoanAmount'].median())"
   ]
  },
  {
   "cell_type": "code",
   "execution_count": 103,
   "id": "43a9b3e9",
   "metadata": {
    "colab": {
     "base_uri": "https://localhost:8080/"
    },
    "id": "43a9b3e9",
    "outputId": "4bf0b7d4-5e59-4711-8e17-4a150777ef32"
   },
   "outputs": [
    {
     "name": "stdout",
     "output_type": "stream",
     "text": [
      "['Gender', 'Married', 'Dependents', 'Education', 'Self_Employed', 'Property_Area']\n"
     ]
    }
   ],
   "source": [
    "# categorical features\n",
    "print(categorical_features)"
   ]
  },
  {
   "cell_type": "code",
   "execution_count": 104,
   "id": "e1d52939",
   "metadata": {
    "id": "e1d52939"
   },
   "outputs": [],
   "source": [
    "df['Gender'] = df['Gender'].fillna(df['Gender'].mode()[0])\n",
    "df['Married'] = df['Married'].fillna(df['Married'].mode()[0])\n",
    "df['Dependents'] = df['Dependents'].fillna(df['Dependents'].mode()[0])\n",
    "df['Self_Employed'] = df['Self_Employed'].fillna(df['Self_Employed'].mode()[0])"
   ]
  },
  {
   "cell_type": "code",
   "execution_count": 105,
   "id": "b496552f",
   "metadata": {
    "colab": {
     "base_uri": "https://localhost:8080/"
    },
    "id": "b496552f",
    "outputId": "769223cd-4909-4072-d512-e9f488964672"
   },
   "outputs": [
    {
     "data": {
      "text/plain": [
       "Gender               0\n",
       "Married              0\n",
       "Dependents           0\n",
       "Education            0\n",
       "Self_Employed        0\n",
       "ApplicantIncome      0\n",
       "CoapplicantIncome    0\n",
       "LoanAmount           0\n",
       "Loan_Amount_Term     0\n",
       "Credit_History       0\n",
       "Property_Area        0\n",
       "Loan_Status          0\n",
       "dtype: int64"
      ]
     },
     "execution_count": 105,
     "metadata": {},
     "output_type": "execute_result"
    }
   ],
   "source": [
    "df.isnull().sum()"
   ]
  },
  {
   "cell_type": "code",
   "execution_count": 106,
   "id": "bd8b2bb9",
   "metadata": {
    "colab": {
     "base_uri": "https://localhost:8080/"
    },
    "id": "bd8b2bb9",
    "outputId": "4571e624-9a81-471b-9cd0-a55b8dcba5e9"
   },
   "outputs": [
    {
     "data": {
      "text/html": [
       "<div>\n",
       "<style scoped>\n",
       "    .dataframe tbody tr th:only-of-type {\n",
       "        vertical-align: middle;\n",
       "    }\n",
       "\n",
       "    .dataframe tbody tr th {\n",
       "        vertical-align: top;\n",
       "    }\n",
       "\n",
       "    .dataframe thead th {\n",
       "        text-align: right;\n",
       "    }\n",
       "</style>\n",
       "<table border=\"1\" class=\"dataframe\">\n",
       "  <thead>\n",
       "    <tr style=\"text-align: right;\">\n",
       "      <th></th>\n",
       "      <th>ApplicantIncome</th>\n",
       "      <th>CoapplicantIncome</th>\n",
       "      <th>LoanAmount</th>\n",
       "      <th>Loan_Amount_Term</th>\n",
       "      <th>Credit_History</th>\n",
       "      <th>Loan_Status</th>\n",
       "      <th>Gender_Female</th>\n",
       "      <th>Gender_Male</th>\n",
       "      <th>Married_No</th>\n",
       "      <th>Married_Yes</th>\n",
       "      <th>...</th>\n",
       "      <th>Dependents_1</th>\n",
       "      <th>Dependents_2</th>\n",
       "      <th>Dependents_3+</th>\n",
       "      <th>Education_Graduate</th>\n",
       "      <th>Education_Not Graduate</th>\n",
       "      <th>Self_Employed_No</th>\n",
       "      <th>Self_Employed_Yes</th>\n",
       "      <th>Property_Area_Rural</th>\n",
       "      <th>Property_Area_Semiurban</th>\n",
       "      <th>Property_Area_Urban</th>\n",
       "    </tr>\n",
       "  </thead>\n",
       "  <tbody>\n",
       "    <tr>\n",
       "      <th>0</th>\n",
       "      <td>5849</td>\n",
       "      <td>0.0</td>\n",
       "      <td>128.0</td>\n",
       "      <td>360.0</td>\n",
       "      <td>1.0</td>\n",
       "      <td>1</td>\n",
       "      <td>0</td>\n",
       "      <td>1</td>\n",
       "      <td>1</td>\n",
       "      <td>0</td>\n",
       "      <td>...</td>\n",
       "      <td>0</td>\n",
       "      <td>0</td>\n",
       "      <td>0</td>\n",
       "      <td>1</td>\n",
       "      <td>0</td>\n",
       "      <td>1</td>\n",
       "      <td>0</td>\n",
       "      <td>0</td>\n",
       "      <td>0</td>\n",
       "      <td>1</td>\n",
       "    </tr>\n",
       "    <tr>\n",
       "      <th>1</th>\n",
       "      <td>4583</td>\n",
       "      <td>1508.0</td>\n",
       "      <td>128.0</td>\n",
       "      <td>360.0</td>\n",
       "      <td>1.0</td>\n",
       "      <td>0</td>\n",
       "      <td>0</td>\n",
       "      <td>1</td>\n",
       "      <td>0</td>\n",
       "      <td>1</td>\n",
       "      <td>...</td>\n",
       "      <td>1</td>\n",
       "      <td>0</td>\n",
       "      <td>0</td>\n",
       "      <td>1</td>\n",
       "      <td>0</td>\n",
       "      <td>1</td>\n",
       "      <td>0</td>\n",
       "      <td>1</td>\n",
       "      <td>0</td>\n",
       "      <td>0</td>\n",
       "    </tr>\n",
       "    <tr>\n",
       "      <th>2</th>\n",
       "      <td>3000</td>\n",
       "      <td>0.0</td>\n",
       "      <td>66.0</td>\n",
       "      <td>360.0</td>\n",
       "      <td>1.0</td>\n",
       "      <td>1</td>\n",
       "      <td>0</td>\n",
       "      <td>1</td>\n",
       "      <td>0</td>\n",
       "      <td>1</td>\n",
       "      <td>...</td>\n",
       "      <td>0</td>\n",
       "      <td>0</td>\n",
       "      <td>0</td>\n",
       "      <td>1</td>\n",
       "      <td>0</td>\n",
       "      <td>0</td>\n",
       "      <td>1</td>\n",
       "      <td>0</td>\n",
       "      <td>0</td>\n",
       "      <td>1</td>\n",
       "    </tr>\n",
       "    <tr>\n",
       "      <th>3</th>\n",
       "      <td>2583</td>\n",
       "      <td>2358.0</td>\n",
       "      <td>120.0</td>\n",
       "      <td>360.0</td>\n",
       "      <td>1.0</td>\n",
       "      <td>1</td>\n",
       "      <td>0</td>\n",
       "      <td>1</td>\n",
       "      <td>0</td>\n",
       "      <td>1</td>\n",
       "      <td>...</td>\n",
       "      <td>0</td>\n",
       "      <td>0</td>\n",
       "      <td>0</td>\n",
       "      <td>0</td>\n",
       "      <td>1</td>\n",
       "      <td>1</td>\n",
       "      <td>0</td>\n",
       "      <td>0</td>\n",
       "      <td>0</td>\n",
       "      <td>1</td>\n",
       "    </tr>\n",
       "    <tr>\n",
       "      <th>4</th>\n",
       "      <td>6000</td>\n",
       "      <td>0.0</td>\n",
       "      <td>141.0</td>\n",
       "      <td>360.0</td>\n",
       "      <td>1.0</td>\n",
       "      <td>1</td>\n",
       "      <td>0</td>\n",
       "      <td>1</td>\n",
       "      <td>1</td>\n",
       "      <td>0</td>\n",
       "      <td>...</td>\n",
       "      <td>0</td>\n",
       "      <td>0</td>\n",
       "      <td>0</td>\n",
       "      <td>1</td>\n",
       "      <td>0</td>\n",
       "      <td>1</td>\n",
       "      <td>0</td>\n",
       "      <td>0</td>\n",
       "      <td>0</td>\n",
       "      <td>1</td>\n",
       "    </tr>\n",
       "  </tbody>\n",
       "</table>\n",
       "<p>5 rows × 21 columns</p>\n",
       "</div>"
      ],
      "text/plain": [
       "   ApplicantIncome  CoapplicantIncome  LoanAmount  Loan_Amount_Term  \\\n",
       "0             5849                0.0       128.0             360.0   \n",
       "1             4583             1508.0       128.0             360.0   \n",
       "2             3000                0.0        66.0             360.0   \n",
       "3             2583             2358.0       120.0             360.0   \n",
       "4             6000                0.0       141.0             360.0   \n",
       "\n",
       "   Credit_History  Loan_Status  Gender_Female  Gender_Male  Married_No  \\\n",
       "0             1.0            1              0            1           1   \n",
       "1             1.0            0              0            1           0   \n",
       "2             1.0            1              0            1           0   \n",
       "3             1.0            1              0            1           0   \n",
       "4             1.0            1              0            1           1   \n",
       "\n",
       "   Married_Yes  ...  Dependents_1  Dependents_2  Dependents_3+  \\\n",
       "0            0  ...             0             0              0   \n",
       "1            1  ...             1             0              0   \n",
       "2            1  ...             0             0              0   \n",
       "3            1  ...             0             0              0   \n",
       "4            0  ...             0             0              0   \n",
       "\n",
       "   Education_Graduate  Education_Not Graduate  Self_Employed_No  \\\n",
       "0                   1                       0                 1   \n",
       "1                   1                       0                 1   \n",
       "2                   1                       0                 0   \n",
       "3                   0                       1                 1   \n",
       "4                   1                       0                 1   \n",
       "\n",
       "   Self_Employed_Yes  Property_Area_Rural  Property_Area_Semiurban  \\\n",
       "0                  0                    0                        0   \n",
       "1                  0                    1                        0   \n",
       "2                  1                    0                        0   \n",
       "3                  0                    0                        0   \n",
       "4                  0                    0                        0   \n",
       "\n",
       "   Property_Area_Urban  \n",
       "0                    1  \n",
       "1                    0  \n",
       "2                    1  \n",
       "3                    1  \n",
       "4                    1  \n",
       "\n",
       "[5 rows x 21 columns]"
      ]
     },
     "execution_count": 106,
     "metadata": {},
     "output_type": "execute_result"
    }
   ],
   "source": [
    "# Encoding categorical features\n",
    "df = pd.get_dummies(df, columns=categorical_features)\n",
    "df.head()"
   ]
  },
  {
   "cell_type": "code",
   "execution_count": 107,
   "id": "K3YAOrz-TBkw",
   "metadata": {
    "id": "K3YAOrz-TBkw"
   },
   "outputs": [],
   "source": [
    "# dropping meaningless features\n",
    "df = df.drop(['Gender_Female', 'Married_No', 'Education_Not Graduate', \n",
    "              'Self_Employed_No'], axis = 1)\n",
    "\n",
    "# keep only one-hot encoded\n",
    "new = {'Gender_Male': 'Gender', 'Married_Yes': 'Married', \n",
    "       'Education_Graduate': 'Education', 'Self_Employed_Yes': 'Self_Employed'\n",
    "      }\n",
    "\n",
    "df.rename(columns=new, inplace=True)\n",
    "\n",
    "#Square Root Transformation\n",
    "df.ApplicantIncome = np.sqrt(df.ApplicantIncome)\n",
    "df.CoapplicantIncome = np.sqrt(df.CoapplicantIncome)\n",
    "df.LoanAmount = np.sqrt(df.LoanAmount)"
   ]
  },
  {
   "cell_type": "code",
   "execution_count": null,
   "id": "IuHfQ2rFjCLX",
   "metadata": {
    "id": "IuHfQ2rFjCLX"
   },
   "outputs": [],
   "source": []
  },
  {
   "cell_type": "code",
   "execution_count": 108,
   "id": "d4c5253e",
   "metadata": {
    "colab": {
     "base_uri": "https://localhost:8080/"
    },
    "id": "d4c5253e",
    "outputId": "6a75afcf-a136-47c0-bdfe-3fca5b415a19"
   },
   "outputs": [
    {
     "data": {
      "text/html": [
       "<div>\n",
       "<style scoped>\n",
       "    .dataframe tbody tr th:only-of-type {\n",
       "        vertical-align: middle;\n",
       "    }\n",
       "\n",
       "    .dataframe tbody tr th {\n",
       "        vertical-align: top;\n",
       "    }\n",
       "\n",
       "    .dataframe thead th {\n",
       "        text-align: right;\n",
       "    }\n",
       "</style>\n",
       "<table border=\"1\" class=\"dataframe\">\n",
       "  <thead>\n",
       "    <tr style=\"text-align: right;\">\n",
       "      <th></th>\n",
       "      <th>ApplicantIncome</th>\n",
       "      <th>CoapplicantIncome</th>\n",
       "      <th>LoanAmount</th>\n",
       "      <th>Loan_Amount_Term</th>\n",
       "      <th>Credit_History</th>\n",
       "      <th>Loan_Status</th>\n",
       "      <th>Gender</th>\n",
       "      <th>Married</th>\n",
       "      <th>Dependents_0</th>\n",
       "      <th>Dependents_1</th>\n",
       "      <th>Dependents_2</th>\n",
       "      <th>Dependents_3+</th>\n",
       "      <th>Education</th>\n",
       "      <th>Self_Employed</th>\n",
       "      <th>Property_Area_Rural</th>\n",
       "      <th>Property_Area_Semiurban</th>\n",
       "      <th>Property_Area_Urban</th>\n",
       "    </tr>\n",
       "  </thead>\n",
       "  <tbody>\n",
       "    <tr>\n",
       "      <th>0</th>\n",
       "      <td>76.478755</td>\n",
       "      <td>0.000000</td>\n",
       "      <td>11.313708</td>\n",
       "      <td>360.0</td>\n",
       "      <td>1.0</td>\n",
       "      <td>1</td>\n",
       "      <td>1</td>\n",
       "      <td>0</td>\n",
       "      <td>1</td>\n",
       "      <td>0</td>\n",
       "      <td>0</td>\n",
       "      <td>0</td>\n",
       "      <td>1</td>\n",
       "      <td>0</td>\n",
       "      <td>0</td>\n",
       "      <td>0</td>\n",
       "      <td>1</td>\n",
       "    </tr>\n",
       "    <tr>\n",
       "      <th>1</th>\n",
       "      <td>67.697858</td>\n",
       "      <td>38.832976</td>\n",
       "      <td>11.313708</td>\n",
       "      <td>360.0</td>\n",
       "      <td>1.0</td>\n",
       "      <td>0</td>\n",
       "      <td>1</td>\n",
       "      <td>1</td>\n",
       "      <td>0</td>\n",
       "      <td>1</td>\n",
       "      <td>0</td>\n",
       "      <td>0</td>\n",
       "      <td>1</td>\n",
       "      <td>0</td>\n",
       "      <td>1</td>\n",
       "      <td>0</td>\n",
       "      <td>0</td>\n",
       "    </tr>\n",
       "    <tr>\n",
       "      <th>2</th>\n",
       "      <td>54.772256</td>\n",
       "      <td>0.000000</td>\n",
       "      <td>8.124038</td>\n",
       "      <td>360.0</td>\n",
       "      <td>1.0</td>\n",
       "      <td>1</td>\n",
       "      <td>1</td>\n",
       "      <td>1</td>\n",
       "      <td>1</td>\n",
       "      <td>0</td>\n",
       "      <td>0</td>\n",
       "      <td>0</td>\n",
       "      <td>1</td>\n",
       "      <td>1</td>\n",
       "      <td>0</td>\n",
       "      <td>0</td>\n",
       "      <td>1</td>\n",
       "    </tr>\n",
       "    <tr>\n",
       "      <th>3</th>\n",
       "      <td>50.823223</td>\n",
       "      <td>48.559242</td>\n",
       "      <td>10.954451</td>\n",
       "      <td>360.0</td>\n",
       "      <td>1.0</td>\n",
       "      <td>1</td>\n",
       "      <td>1</td>\n",
       "      <td>1</td>\n",
       "      <td>1</td>\n",
       "      <td>0</td>\n",
       "      <td>0</td>\n",
       "      <td>0</td>\n",
       "      <td>0</td>\n",
       "      <td>0</td>\n",
       "      <td>0</td>\n",
       "      <td>0</td>\n",
       "      <td>1</td>\n",
       "    </tr>\n",
       "    <tr>\n",
       "      <th>4</th>\n",
       "      <td>77.459667</td>\n",
       "      <td>0.000000</td>\n",
       "      <td>11.874342</td>\n",
       "      <td>360.0</td>\n",
       "      <td>1.0</td>\n",
       "      <td>1</td>\n",
       "      <td>1</td>\n",
       "      <td>0</td>\n",
       "      <td>1</td>\n",
       "      <td>0</td>\n",
       "      <td>0</td>\n",
       "      <td>0</td>\n",
       "      <td>1</td>\n",
       "      <td>0</td>\n",
       "      <td>0</td>\n",
       "      <td>0</td>\n",
       "      <td>1</td>\n",
       "    </tr>\n",
       "  </tbody>\n",
       "</table>\n",
       "</div>"
      ],
      "text/plain": [
       "   ApplicantIncome  CoapplicantIncome  LoanAmount  Loan_Amount_Term  \\\n",
       "0        76.478755           0.000000   11.313708             360.0   \n",
       "1        67.697858          38.832976   11.313708             360.0   \n",
       "2        54.772256           0.000000    8.124038             360.0   \n",
       "3        50.823223          48.559242   10.954451             360.0   \n",
       "4        77.459667           0.000000   11.874342             360.0   \n",
       "\n",
       "   Credit_History  Loan_Status  Gender  Married  Dependents_0  Dependents_1  \\\n",
       "0             1.0            1       1        0             1             0   \n",
       "1             1.0            0       1        1             0             1   \n",
       "2             1.0            1       1        1             1             0   \n",
       "3             1.0            1       1        1             1             0   \n",
       "4             1.0            1       1        0             1             0   \n",
       "\n",
       "   Dependents_2  Dependents_3+  Education  Self_Employed  Property_Area_Rural  \\\n",
       "0             0              0          1              0                    0   \n",
       "1             0              0          1              0                    1   \n",
       "2             0              0          1              1                    0   \n",
       "3             0              0          0              0                    0   \n",
       "4             0              0          1              0                    0   \n",
       "\n",
       "   Property_Area_Semiurban  Property_Area_Urban  \n",
       "0                        0                    1  \n",
       "1                        0                    0  \n",
       "2                        0                    1  \n",
       "3                        0                    1  \n",
       "4                        0                    1  "
      ]
     },
     "execution_count": 108,
     "metadata": {},
     "output_type": "execute_result"
    }
   ],
   "source": [
    "df.head()"
   ]
  },
  {
   "cell_type": "markdown",
   "id": "f4950a3a",
   "metadata": {
    "id": "f4950a3a"
   },
   "source": [
    "### Feature Scaling & Train-validation-test"
   ]
  },
  {
   "cell_type": "code",
   "execution_count": 109,
   "id": "afaedb74",
   "metadata": {
    "id": "afaedb74"
   },
   "outputs": [],
   "source": [
    "X = df.drop('Loan_Status', axis=1)\n",
    "Y = df['Loan_Status']\n",
    "X_train,X_test, Y_train, Y_test =train_test_split(X,Y,random_state=0, test_size=0.2)\n",
    "scaler = StandardScaler().fit(X_train)\n",
    "X_train = scaler.transform(X_train)\n",
    "X_test = scaler.transform(X_test)\n",
    "X_scaled = pd.DataFrame(data=X_train, columns=X.columns)"
   ]
  },
  {
   "cell_type": "code",
   "execution_count": 110,
   "id": "dbcff1ea",
   "metadata": {
    "colab": {
     "base_uri": "https://localhost:8080/"
    },
    "id": "dbcff1ea",
    "outputId": "b4d716a1-437a-47ac-c547-5af4d1193e4f"
   },
   "outputs": [
    {
     "data": {
      "text/plain": [
       "1    332\n",
       "0    159\n",
       "Name: Loan_Status, dtype: int64"
      ]
     },
     "execution_count": 110,
     "metadata": {},
     "output_type": "execute_result"
    }
   ],
   "source": [
    "Y_train.value_counts()"
   ]
  },
  {
   "cell_type": "markdown",
   "id": "7ec7c729",
   "metadata": {
    "id": "7ec7c729"
   },
   "source": [
    "### PCA - eleminates unimportant/unecessary features \n",
    "They are applied with the condition that the features must be scaled."
   ]
  },
  {
   "cell_type": "code",
   "execution_count": 111,
   "id": "c2eba048",
   "metadata": {
    "colab": {
     "base_uri": "https://localhost:8080/"
    },
    "id": "c2eba048",
    "outputId": "27d3db5b-497f-4e42-af14-775b05069bb5"
   },
   "outputs": [
    {
     "data": {
      "image/png": "[encoded data removed]",
      "text/plain": [
       "<Figure size 432x360 with 1 Axes>"
      ]
     },
     "metadata": {},
     "output_type": "display_data"
    }
   ],
   "source": [
    "pca = PCA()\n",
    "\n",
    "# Determine transformed features\n",
    "\n",
    "X_pca = pca.fit(X_train)\n",
    "X_train = pca.transform(X_train)\n",
    "X_test = pca.transform(X_test)\n",
    "\n",
    "# Determine explained variance using explained_variance_ration_ attribute\n",
    "exp_var_pca = pca.explained_variance_ratio_\n",
    "\n",
    "# Cumulative sum of eigenvalues; This will be used to create step plot\n",
    "# for visualizing the variance explained by each principal component.\n",
    "cum_sum_eigenvalues = np.cumsum(exp_var_pca)\n",
    "\n",
    "# Create the visualization plot\n",
    "plt.bar(range(0,len(exp_var_pca)), exp_var_pca, alpha=0.5, align='center', label='Individual explained variance')\n",
    "\n",
    "plt.step(range(0,len(cum_sum_eigenvalues)), cum_sum_eigenvalues, where='mid',label='Cumulative explained variance')\n",
    "plt.ylabel('Explained variance ratio')\n",
    "plt.xlabel('Principal component index')\n",
    "plt.legend(loc='best')\n",
    "plt.tight_layout()\n",
    "plt.show()\n"
   ]
  },
  {
   "cell_type": "code",
   "execution_count": 112,
   "id": "hUrfPDX0duTN",
   "metadata": {
    "id": "hUrfPDX0duTN"
   },
   "outputs": [],
   "source": [
    "dic = {}\n",
    "\n",
    "for nr_princ_comp in range(1, 15):\n",
    "    for n_n in range(1,21):\n",
    "        pca = PCA(n_components=nr_princ_comp, random_state=0)\n",
    "        X_train_pca = pca.fit_transform(X_train)\n",
    "        knn = KNeighborsClassifier(n_neighbors=n_n)\n",
    "        knn.fit(X_train_pca, Y_train)\n",
    "        \n",
    "        X_test_pca = pca.transform(X_test)\n",
    "        pred_test = knn.predict(X_test_pca)\n",
    "        auc_score = roc_auc_score(Y_test, pred_test)\n",
    "        dic[(nr_princ_comp, n_n)] = auc_score"
   ]
  },
  {
   "cell_type": "code",
   "execution_count": 113,
   "id": "yfRkOFJ3eRvT",
   "metadata": {
    "colab": {
     "base_uri": "https://localhost:8080/"
    },
    "id": "yfRkOFJ3eRvT",
    "outputId": "df0cd203-491c-475d-db52-93c9569d31c1"
   },
   "outputs": [
    {
     "name": "stdout",
     "output_type": "stream",
     "text": [
      "(Nr_Princ_Comp , N_Neighbors) : (1, 1) -- AUC Score : 0.4919191919191919\n",
      "(Nr_Princ_Comp , N_Neighbors) : (1, 2) -- AUC Score : 0.503030303030303\n",
      "(Nr_Princ_Comp , N_Neighbors) : (1, 3) -- AUC Score : 0.47525252525252526\n",
      "(Nr_Princ_Comp , N_Neighbors) : (1, 4) -- AUC Score : 0.445959595959596\n",
      "(Nr_Princ_Comp , N_Neighbors) : (1, 5) -- AUC Score : 0.46616161616161617\n",
      "(Nr_Princ_Comp , N_Neighbors) : (1, 6) -- AUC Score : 0.4767676767676768\n",
      "(Nr_Princ_Comp , N_Neighbors) : (1, 7) -- AUC Score : 0.48282828282828283\n",
      "(Nr_Princ_Comp , N_Neighbors) : (1, 8) -- AUC Score : 0.4797979797979798\n",
      "(Nr_Princ_Comp , N_Neighbors) : (1, 9) -- AUC Score : 0.46515151515151515\n",
      "(Nr_Princ_Comp , N_Neighbors) : (1, 10) -- AUC Score : 0.4787878787878788\n",
      "(Nr_Princ_Comp , N_Neighbors) : (1, 11) -- AUC Score : 0.5025252525252525\n",
      "(Nr_Princ_Comp , N_Neighbors) : (1, 12) -- AUC Score : 0.49696969696969695\n",
      "(Nr_Princ_Comp , N_Neighbors) : (1, 13) -- AUC Score : 0.49292929292929294\n",
      "(Nr_Princ_Comp , N_Neighbors) : (1, 14) -- AUC Score : 0.49292929292929294\n",
      "(Nr_Princ_Comp , N_Neighbors) : (1, 15) -- AUC Score : 0.49292929292929294\n",
      "(Nr_Princ_Comp , N_Neighbors) : (1, 16) -- AUC Score : 0.508080808080808\n",
      "(Nr_Princ_Comp , N_Neighbors) : (1, 17) -- AUC Score : 0.508080808080808\n",
      "(Nr_Princ_Comp , N_Neighbors) : (1, 18) -- AUC Score : 0.508080808080808\n",
      "(Nr_Princ_Comp , N_Neighbors) : (1, 19) -- AUC Score : 0.5191919191919191\n",
      "(Nr_Princ_Comp , N_Neighbors) : (1, 20) -- AUC Score : 0.5136363636363637\n",
      "(Nr_Princ_Comp , N_Neighbors) : (2, 1) -- AUC Score : 0.49444444444444446\n",
      "(Nr_Princ_Comp , N_Neighbors) : (2, 2) -- AUC Score : 0.444949494949495\n",
      "(Nr_Princ_Comp , N_Neighbors) : (2, 3) -- AUC Score : 0.545959595959596\n",
      "(Nr_Princ_Comp , N_Neighbors) : (2, 4) -- AUC Score : 0.5505050505050505\n",
      "(Nr_Princ_Comp , N_Neighbors) : (2, 5) -- AUC Score : 0.498989898989899\n",
      "(Nr_Princ_Comp , N_Neighbors) : (2, 6) -- AUC Score : 0.49292929292929294\n",
      "(Nr_Princ_Comp , N_Neighbors) : (2, 7) -- AUC Score : 0.45656565656565656\n",
      "(Nr_Princ_Comp , N_Neighbors) : (2, 8) -- AUC Score : 0.5045454545454546\n",
      "(Nr_Princ_Comp , N_Neighbors) : (2, 9) -- AUC Score : 0.4803030303030303\n",
      "(Nr_Princ_Comp , N_Neighbors) : (2, 10) -- AUC Score : 0.4717171717171717\n",
      "(Nr_Princ_Comp , N_Neighbors) : (2, 11) -- AUC Score : 0.48333333333333334\n",
      "(Nr_Princ_Comp , N_Neighbors) : (2, 12) -- AUC Score : 0.4803030303030303\n",
      "(Nr_Princ_Comp , N_Neighbors) : (2, 13) -- AUC Score : 0.48737373737373735\n",
      "(Nr_Princ_Comp , N_Neighbors) : (2, 14) -- AUC Score : 0.47070707070707063\n",
      "(Nr_Princ_Comp , N_Neighbors) : (2, 15) -- AUC Score : 0.48333333333333334\n",
      "(Nr_Princ_Comp , N_Neighbors) : (2, 16) -- AUC Score : 0.46111111111111114\n",
      "(Nr_Princ_Comp , N_Neighbors) : (2, 17) -- AUC Score : 0.48333333333333334\n",
      "(Nr_Princ_Comp , N_Neighbors) : (2, 18) -- AUC Score : 0.4722222222222222\n",
      "(Nr_Princ_Comp , N_Neighbors) : (2, 19) -- AUC Score : 0.48333333333333334\n",
      "(Nr_Princ_Comp , N_Neighbors) : (2, 20) -- AUC Score : 0.4777777777777778\n",
      "(Nr_Princ_Comp , N_Neighbors) : (3, 1) -- AUC Score : 0.5797979797979798\n",
      "(Nr_Princ_Comp , N_Neighbors) : (3, 2) -- AUC Score : 0.6191919191919192\n",
      "(Nr_Princ_Comp , N_Neighbors) : (3, 3) -- AUC Score : 0.51010101010101\n",
      "(Nr_Princ_Comp , N_Neighbors) : (3, 4) -- AUC Score : 0.4818181818181818\n",
      "(Nr_Princ_Comp , N_Neighbors) : (3, 5) -- AUC Score : 0.502020202020202\n",
      "(Nr_Princ_Comp , N_Neighbors) : (3, 6) -- AUC Score : 0.562121212121212\n",
      "(Nr_Princ_Comp , N_Neighbors) : (3, 7) -- AUC Score : 0.5242424242424242\n",
      "(Nr_Princ_Comp , N_Neighbors) : (3, 8) -- AUC Score : 0.5348484848484849\n",
      "(Nr_Princ_Comp , N_Neighbors) : (3, 9) -- AUC Score : 0.4484848484848485\n",
      "(Nr_Princ_Comp , N_Neighbors) : (3, 10) -- AUC Score : 0.43434343434343436\n",
      "(Nr_Princ_Comp , N_Neighbors) : (3, 11) -- AUC Score : 0.4444444444444444\n",
      "(Nr_Princ_Comp , N_Neighbors) : (3, 12) -- AUC Score : 0.4787878787878788\n",
      "(Nr_Princ_Comp , N_Neighbors) : (3, 13) -- AUC Score : 0.5025252525252525\n",
      "(Nr_Princ_Comp , N_Neighbors) : (3, 14) -- AUC Score : 0.501010101010101\n",
      "(Nr_Princ_Comp , N_Neighbors) : (3, 15) -- AUC Score : 0.5040404040404041\n",
      "(Nr_Princ_Comp , N_Neighbors) : (3, 16) -- AUC Score : 0.4762626262626263\n",
      "(Nr_Princ_Comp , N_Neighbors) : (3, 17) -- AUC Score : 0.4722222222222222\n",
      "(Nr_Princ_Comp , N_Neighbors) : (3, 18) -- AUC Score : 0.45555555555555555\n",
      "(Nr_Princ_Comp , N_Neighbors) : (3, 19) -- AUC Score : 0.46111111111111114\n",
      "(Nr_Princ_Comp , N_Neighbors) : (3, 20) -- AUC Score : 0.4444444444444444\n",
      "(Nr_Princ_Comp , N_Neighbors) : (4, 1) -- AUC Score : 0.5717171717171717\n",
      "(Nr_Princ_Comp , N_Neighbors) : (4, 2) -- AUC Score : 0.604040404040404\n",
      "(Nr_Princ_Comp , N_Neighbors) : (4, 3) -- AUC Score : 0.5777777777777777\n",
      "(Nr_Princ_Comp , N_Neighbors) : (4, 4) -- AUC Score : 0.5565656565656565\n",
      "(Nr_Princ_Comp , N_Neighbors) : (4, 5) -- AUC Score : 0.4994949494949495\n",
      "(Nr_Princ_Comp , N_Neighbors) : (4, 6) -- AUC Score : 0.4893939393939394\n",
      "(Nr_Princ_Comp , N_Neighbors) : (4, 7) -- AUC Score : 0.48989898989898983\n",
      "(Nr_Princ_Comp , N_Neighbors) : (4, 8) -- AUC Score : 0.49797979797979797\n",
      "(Nr_Princ_Comp , N_Neighbors) : (4, 9) -- AUC Score : 0.49696969696969695\n",
      "(Nr_Princ_Comp , N_Neighbors) : (4, 10) -- AUC Score : 0.4732323232323232\n",
      "(Nr_Princ_Comp , N_Neighbors) : (4, 11) -- AUC Score : 0.4722222222222222\n",
      "(Nr_Princ_Comp , N_Neighbors) : (4, 12) -- AUC Score : 0.45\n",
      "(Nr_Princ_Comp , N_Neighbors) : (4, 13) -- AUC Score : 0.4777777777777778\n",
      "(Nr_Princ_Comp , N_Neighbors) : (4, 14) -- AUC Score : 0.4914141414141414\n",
      "(Nr_Princ_Comp , N_Neighbors) : (4, 15) -- AUC Score : 0.4984848484848485\n",
      "(Nr_Princ_Comp , N_Neighbors) : (4, 16) -- AUC Score : 0.48737373737373735\n",
      "(Nr_Princ_Comp , N_Neighbors) : (4, 17) -- AUC Score : 0.4888888888888889\n",
      "(Nr_Princ_Comp , N_Neighbors) : (4, 18) -- AUC Score : 0.49292929292929294\n",
      "(Nr_Princ_Comp , N_Neighbors) : (4, 19) -- AUC Score : 0.48333333333333334\n",
      "(Nr_Princ_Comp , N_Neighbors) : (4, 20) -- AUC Score : 0.49292929292929294\n",
      "(Nr_Princ_Comp , N_Neighbors) : (5, 1) -- AUC Score : 0.55\n",
      "(Nr_Princ_Comp , N_Neighbors) : (5, 2) -- AUC Score : 0.6181818181818183\n",
      "(Nr_Princ_Comp , N_Neighbors) : (5, 3) -- AUC Score : 0.5585858585858586\n",
      "(Nr_Princ_Comp , N_Neighbors) : (5, 4) -- AUC Score : 0.593939393939394\n",
      "(Nr_Princ_Comp , N_Neighbors) : (5, 5) -- AUC Score : 0.5202020202020202\n",
      "(Nr_Princ_Comp , N_Neighbors) : (5, 6) -- AUC Score : 0.557070707070707\n",
      "(Nr_Princ_Comp , N_Neighbors) : (5, 7) -- AUC Score : 0.509090909090909\n",
      "(Nr_Princ_Comp , N_Neighbors) : (5, 8) -- AUC Score : 0.5075757575757576\n",
      "(Nr_Princ_Comp , N_Neighbors) : (5, 9) -- AUC Score : 0.5464646464646464\n",
      "(Nr_Princ_Comp , N_Neighbors) : (5, 10) -- AUC Score : 0.5393939393939394\n",
      "(Nr_Princ_Comp , N_Neighbors) : (5, 11) -- AUC Score : 0.547979797979798\n",
      "(Nr_Princ_Comp , N_Neighbors) : (5, 12) -- AUC Score : 0.5520202020202021\n",
      "(Nr_Princ_Comp , N_Neighbors) : (5, 13) -- AUC Score : 0.547979797979798\n",
      "(Nr_Princ_Comp , N_Neighbors) : (5, 14) -- AUC Score : 0.5934343434343434\n",
      "(Nr_Princ_Comp , N_Neighbors) : (5, 15) -- AUC Score : 0.5702020202020203\n",
      "(Nr_Princ_Comp , N_Neighbors) : (5, 16) -- AUC Score : 0.5742424242424242\n",
      "(Nr_Princ_Comp , N_Neighbors) : (5, 17) -- AUC Score : 0.555050505050505\n",
      "(Nr_Princ_Comp , N_Neighbors) : (5, 18) -- AUC Score : 0.5328282828282828\n",
      "(Nr_Princ_Comp , N_Neighbors) : (5, 19) -- AUC Score : 0.555050505050505\n",
      "(Nr_Princ_Comp , N_Neighbors) : (5, 20) -- AUC Score : 0.555050505050505\n",
      "(Nr_Princ_Comp , N_Neighbors) : (6, 1) -- AUC Score : 0.5898989898989898\n",
      "(Nr_Princ_Comp , N_Neighbors) : (6, 2) -- AUC Score : 0.5671717171717172\n",
      "(Nr_Princ_Comp , N_Neighbors) : (6, 3) -- AUC Score : 0.5338383838383839\n",
      "(Nr_Princ_Comp , N_Neighbors) : (6, 4) -- AUC Score : 0.5691919191919191\n",
      "(Nr_Princ_Comp , N_Neighbors) : (6, 5) -- AUC Score : 0.5146464646464646\n",
      "(Nr_Princ_Comp , N_Neighbors) : (6, 6) -- AUC Score : 0.5873737373737373\n",
      "(Nr_Princ_Comp , N_Neighbors) : (6, 7) -- AUC Score : 0.5202020202020202\n",
      "(Nr_Princ_Comp , N_Neighbors) : (6, 8) -- AUC Score : 0.5323232323232323\n",
      "(Nr_Princ_Comp , N_Neighbors) : (6, 9) -- AUC Score : 0.5409090909090909\n",
      "(Nr_Princ_Comp , N_Neighbors) : (6, 10) -- AUC Score : 0.5186868686868686\n",
      "(Nr_Princ_Comp , N_Neighbors) : (6, 11) -- AUC Score : 0.563131313131313\n",
      "(Nr_Princ_Comp , N_Neighbors) : (6, 12) -- AUC Score : 0.563131313131313\n",
      "(Nr_Princ_Comp , N_Neighbors) : (6, 13) -- AUC Score : 0.5742424242424242\n",
      "(Nr_Princ_Comp , N_Neighbors) : (6, 14) -- AUC Score : 0.5686868686868687\n",
      "(Nr_Princ_Comp , N_Neighbors) : (6, 15) -- AUC Score : 0.5646464646464646\n",
      "(Nr_Princ_Comp , N_Neighbors) : (6, 16) -- AUC Score : 0.5646464646464646\n",
      "(Nr_Princ_Comp , N_Neighbors) : (6, 17) -- AUC Score : 0.5702020202020203\n",
      "(Nr_Princ_Comp , N_Neighbors) : (6, 18) -- AUC Score : 0.5853535353535353\n",
      "(Nr_Princ_Comp , N_Neighbors) : (6, 19) -- AUC Score : 0.5454545454545454\n",
      "(Nr_Princ_Comp , N_Neighbors) : (6, 20) -- AUC Score : 0.5646464646464646\n",
      "(Nr_Princ_Comp , N_Neighbors) : (7, 1) -- AUC Score : 0.5858585858585859\n",
      "(Nr_Princ_Comp , N_Neighbors) : (7, 2) -- AUC Score : 0.5727272727272728\n",
      "(Nr_Princ_Comp , N_Neighbors) : (7, 3) -- AUC Score : 0.564141414141414\n",
      "(Nr_Princ_Comp , N_Neighbors) : (7, 4) -- AUC Score : 0.5636363636363636\n",
      "(Nr_Princ_Comp , N_Neighbors) : (7, 5) -- AUC Score : 0.5353535353535352\n",
      "(Nr_Princ_Comp , N_Neighbors) : (7, 6) -- AUC Score : 0.5722222222222222\n",
      "(Nr_Princ_Comp , N_Neighbors) : (7, 7) -- AUC Score : 0.5464646464646464\n",
      "(Nr_Princ_Comp , N_Neighbors) : (7, 8) -- AUC Score : 0.5338383838383839\n",
      "(Nr_Princ_Comp , N_Neighbors) : (7, 9) -- AUC Score : 0.5424242424242424\n",
      "(Nr_Princ_Comp , N_Neighbors) : (7, 10) -- AUC Score : 0.5464646464646464\n",
      "(Nr_Princ_Comp , N_Neighbors) : (7, 11) -- AUC Score : 0.5287878787878788\n",
      "(Nr_Princ_Comp , N_Neighbors) : (7, 12) -- AUC Score : 0.547979797979798\n",
      "(Nr_Princ_Comp , N_Neighbors) : (7, 13) -- AUC Score : 0.5191919191919191\n",
      "(Nr_Princ_Comp , N_Neighbors) : (7, 14) -- AUC Score : 0.5742424242424242\n",
      "(Nr_Princ_Comp , N_Neighbors) : (7, 15) -- AUC Score : 0.555050505050505\n",
      "(Nr_Princ_Comp , N_Neighbors) : (7, 16) -- AUC Score : 0.5646464646464646\n",
      "(Nr_Princ_Comp , N_Neighbors) : (7, 17) -- AUC Score : 0.5247474747474747\n",
      "(Nr_Princ_Comp , N_Neighbors) : (7, 18) -- AUC Score : 0.5287878787878788\n",
      "(Nr_Princ_Comp , N_Neighbors) : (7, 19) -- AUC Score : 0.5303030303030303\n",
      "(Nr_Princ_Comp , N_Neighbors) : (7, 20) -- AUC Score : 0.5191919191919191\n",
      "(Nr_Princ_Comp , N_Neighbors) : (8, 1) -- AUC Score : 0.6217171717171717\n",
      "(Nr_Princ_Comp , N_Neighbors) : (8, 2) -- AUC Score : 0.6005050505050504\n",
      "(Nr_Princ_Comp , N_Neighbors) : (8, 3) -- AUC Score : 0.646969696969697\n",
      "(Nr_Princ_Comp , N_Neighbors) : (8, 4) -- AUC Score : 0.6686868686868687\n",
      "(Nr_Princ_Comp , N_Neighbors) : (8, 5) -- AUC Score : 0.6651515151515152\n",
      "(Nr_Princ_Comp , N_Neighbors) : (8, 6) -- AUC Score : 0.6636363636363636\n",
      "(Nr_Princ_Comp , N_Neighbors) : (8, 7) -- AUC Score : 0.6196969696969696\n",
      "(Nr_Princ_Comp , N_Neighbors) : (8, 8) -- AUC Score : 0.6126262626262626\n",
      "(Nr_Princ_Comp , N_Neighbors) : (8, 9) -- AUC Score : 0.6292929292929292\n",
      "(Nr_Princ_Comp , N_Neighbors) : (8, 10) -- AUC Score : 0.6237373737373737\n",
      "(Nr_Princ_Comp , N_Neighbors) : (8, 11) -- AUC Score : 0.61010101010101\n",
      "(Nr_Princ_Comp , N_Neighbors) : (8, 12) -- AUC Score : 0.61010101010101\n",
      "(Nr_Princ_Comp , N_Neighbors) : (8, 13) -- AUC Score : 0.61010101010101\n",
      "(Nr_Princ_Comp , N_Neighbors) : (8, 14) -- AUC Score : 0.6252525252525253\n",
      "(Nr_Princ_Comp , N_Neighbors) : (8, 15) -- AUC Score : 0.6156565656565657\n",
      "(Nr_Princ_Comp , N_Neighbors) : (8, 16) -- AUC Score : 0.6156565656565657\n",
      "(Nr_Princ_Comp , N_Neighbors) : (8, 17) -- AUC Score : 0.5853535353535353\n",
      "(Nr_Princ_Comp , N_Neighbors) : (8, 18) -- AUC Score : 0.5853535353535353\n",
      "(Nr_Princ_Comp , N_Neighbors) : (8, 19) -- AUC Score : 0.5853535353535353\n",
      "(Nr_Princ_Comp , N_Neighbors) : (8, 20) -- AUC Score : 0.5853535353535353\n",
      "(Nr_Princ_Comp , N_Neighbors) : (9, 1) -- AUC Score : 0.6257575757575757\n",
      "(Nr_Princ_Comp , N_Neighbors) : (9, 2) -- AUC Score : 0.5893939393939394\n",
      "(Nr_Princ_Comp , N_Neighbors) : (9, 3) -- AUC Score : 0.6454545454545454\n",
      "(Nr_Princ_Comp , N_Neighbors) : (9, 4) -- AUC Score : 0.6106060606060606\n",
      "(Nr_Princ_Comp , N_Neighbors) : (9, 5) -- AUC Score : 0.6595959595959596\n",
      "(Nr_Princ_Comp , N_Neighbors) : (9, 6) -- AUC Score : 0.6732323232323232\n",
      "(Nr_Princ_Comp , N_Neighbors) : (9, 7) -- AUC Score : 0.6292929292929292\n",
      "(Nr_Princ_Comp , N_Neighbors) : (9, 8) -- AUC Score : 0.6126262626262626\n",
      "(Nr_Princ_Comp , N_Neighbors) : (9, 9) -- AUC Score : 0.6292929292929292\n",
      "(Nr_Princ_Comp , N_Neighbors) : (9, 10) -- AUC Score : 0.6237373737373737\n",
      "(Nr_Princ_Comp , N_Neighbors) : (9, 11) -- AUC Score : 0.6196969696969696\n",
      "(Nr_Princ_Comp , N_Neighbors) : (9, 12) -- AUC Score : 0.6141414141414141\n",
      "(Nr_Princ_Comp , N_Neighbors) : (9, 13) -- AUC Score : 0.6252525252525253\n",
      "(Nr_Princ_Comp , N_Neighbors) : (9, 14) -- AUC Score : 0.6292929292929292\n",
      "(Nr_Princ_Comp , N_Neighbors) : (9, 15) -- AUC Score : 0.6308080808080808\n",
      "(Nr_Princ_Comp , N_Neighbors) : (9, 16) -- AUC Score : 0.645959595959596\n",
      "(Nr_Princ_Comp , N_Neighbors) : (9, 17) -- AUC Score : 0.6005050505050505\n",
      "(Nr_Princ_Comp , N_Neighbors) : (9, 18) -- AUC Score : 0.5893939393939395\n",
      "(Nr_Princ_Comp , N_Neighbors) : (9, 19) -- AUC Score : 0.5702020202020203\n",
      "(Nr_Princ_Comp , N_Neighbors) : (9, 20) -- AUC Score : 0.5797979797979798\n",
      "(Nr_Princ_Comp , N_Neighbors) : (10, 1) -- AUC Score : 0.6161616161616161\n",
      "(Nr_Princ_Comp , N_Neighbors) : (10, 2) -- AUC Score : 0.5893939393939394\n",
      "(Nr_Princ_Comp , N_Neighbors) : (10, 3) -- AUC Score : 0.6247474747474747\n",
      "(Nr_Princ_Comp , N_Neighbors) : (10, 4) -- AUC Score : 0.6464646464646464\n",
      "(Nr_Princ_Comp , N_Neighbors) : (10, 5) -- AUC Score : 0.6747474747474748\n",
      "(Nr_Princ_Comp , N_Neighbors) : (10, 6) -- AUC Score : 0.693939393939394\n",
      "(Nr_Princ_Comp , N_Neighbors) : (10, 7) -- AUC Score : 0.6388888888888888\n",
      "(Nr_Princ_Comp , N_Neighbors) : (10, 8) -- AUC Score : 0.6166666666666667\n",
      "(Nr_Princ_Comp , N_Neighbors) : (10, 9) -- AUC Score : 0.6388888888888888\n",
      "(Nr_Princ_Comp , N_Neighbors) : (10, 10) -- AUC Score : 0.6333333333333333\n",
      "(Nr_Princ_Comp , N_Neighbors) : (10, 11) -- AUC Score : 0.65\n",
      "(Nr_Princ_Comp , N_Neighbors) : (10, 12) -- AUC Score : 0.6595959595959596\n",
      "(Nr_Princ_Comp , N_Neighbors) : (10, 13) -- AUC Score : 0.6348484848484848\n",
      "(Nr_Princ_Comp , N_Neighbors) : (10, 14) -- AUC Score : 0.6747474747474748\n",
      "(Nr_Princ_Comp , N_Neighbors) : (10, 15) -- AUC Score : 0.6252525252525253\n",
      "(Nr_Princ_Comp , N_Neighbors) : (10, 16) -- AUC Score : 0.6707070707070708\n",
      "(Nr_Princ_Comp , N_Neighbors) : (10, 17) -- AUC Score : 0.61010101010101\n",
      "(Nr_Princ_Comp , N_Neighbors) : (10, 18) -- AUC Score : 0.6252525252525253\n",
      "(Nr_Princ_Comp , N_Neighbors) : (10, 19) -- AUC Score : 0.5797979797979798\n",
      "(Nr_Princ_Comp , N_Neighbors) : (10, 20) -- AUC Score : 0.5742424242424242\n",
      "(Nr_Princ_Comp , N_Neighbors) : (11, 1) -- AUC Score : 0.6217171717171717\n",
      "(Nr_Princ_Comp , N_Neighbors) : (11, 2) -- AUC Score : 0.5853535353535353\n",
      "(Nr_Princ_Comp , N_Neighbors) : (11, 3) -- AUC Score : 0.6358585858585859\n",
      "(Nr_Princ_Comp , N_Neighbors) : (11, 4) -- AUC Score : 0.6616161616161615\n",
      "(Nr_Princ_Comp , N_Neighbors) : (11, 5) -- AUC Score : 0.6747474747474748\n",
      "(Nr_Princ_Comp , N_Neighbors) : (11, 6) -- AUC Score : 0.6772727272727272\n",
      "(Nr_Princ_Comp , N_Neighbors) : (11, 7) -- AUC Score : 0.6595959595959596\n",
      "(Nr_Princ_Comp , N_Neighbors) : (11, 8) -- AUC Score : 0.6484848484848484\n",
      "(Nr_Princ_Comp , N_Neighbors) : (11, 9) -- AUC Score : 0.6555555555555556\n",
      "(Nr_Princ_Comp , N_Neighbors) : (11, 10) -- AUC Score : 0.6707070707070708\n",
      "(Nr_Princ_Comp , N_Neighbors) : (11, 11) -- AUC Score : 0.6611111111111112\n",
      "(Nr_Princ_Comp , N_Neighbors) : (11, 12) -- AUC Score : 0.6914141414141415\n",
      "(Nr_Princ_Comp , N_Neighbors) : (11, 13) -- AUC Score : 0.6611111111111112\n",
      "(Nr_Princ_Comp , N_Neighbors) : (11, 14) -- AUC Score : 0.7065656565656566\n",
      "(Nr_Princ_Comp , N_Neighbors) : (11, 15) -- AUC Score : 0.7065656565656566\n",
      "(Nr_Princ_Comp , N_Neighbors) : (11, 16) -- AUC Score : 0.7065656565656566\n",
      "(Nr_Princ_Comp , N_Neighbors) : (11, 17) -- AUC Score : 0.645959595959596\n",
      "(Nr_Princ_Comp , N_Neighbors) : (11, 18) -- AUC Score : 0.6762626262626263\n",
      "(Nr_Princ_Comp , N_Neighbors) : (11, 19) -- AUC Score : 0.645959595959596\n",
      "(Nr_Princ_Comp , N_Neighbors) : (11, 20) -- AUC Score : 0.6404040404040403\n",
      "(Nr_Princ_Comp , N_Neighbors) : (12, 1) -- AUC Score : 0.6272727272727273\n",
      "(Nr_Princ_Comp , N_Neighbors) : (12, 2) -- AUC Score : 0.5949494949494949\n",
      "(Nr_Princ_Comp , N_Neighbors) : (12, 3) -- AUC Score : 0.5833333333333335\n",
      "(Nr_Princ_Comp , N_Neighbors) : (12, 4) -- AUC Score : 0.6338383838383839\n",
      "(Nr_Princ_Comp , N_Neighbors) : (12, 5) -- AUC Score : 0.6484848484848484\n",
      "(Nr_Princ_Comp , N_Neighbors) : (12, 6) -- AUC Score : 0.6454545454545454\n",
      "(Nr_Princ_Comp , N_Neighbors) : (12, 7) -- AUC Score : 0.6595959595959596\n",
      "(Nr_Princ_Comp , N_Neighbors) : (12, 8) -- AUC Score : 0.6318181818181818\n",
      "(Nr_Princ_Comp , N_Neighbors) : (12, 9) -- AUC Score : 0.6555555555555556\n",
      "(Nr_Princ_Comp , N_Neighbors) : (12, 10) -- AUC Score : 0.65\n",
      "(Nr_Princ_Comp , N_Neighbors) : (12, 11) -- AUC Score : 0.6348484848484848\n",
      "(Nr_Princ_Comp , N_Neighbors) : (12, 12) -- AUC Score : 0.65\n",
      "(Nr_Princ_Comp , N_Neighbors) : (12, 13) -- AUC Score : 0.6252525252525253\n",
      "(Nr_Princ_Comp , N_Neighbors) : (12, 14) -- AUC Score : 0.6348484848484848\n",
      "(Nr_Princ_Comp , N_Neighbors) : (12, 15) -- AUC Score : 0.6196969696969696\n",
      "(Nr_Princ_Comp , N_Neighbors) : (12, 16) -- AUC Score : 0.6348484848484848\n",
      "(Nr_Princ_Comp , N_Neighbors) : (12, 17) -- AUC Score : 0.6196969696969696\n",
      "(Nr_Princ_Comp , N_Neighbors) : (12, 18) -- AUC Score : 0.6196969696969696\n",
      "(Nr_Princ_Comp , N_Neighbors) : (12, 19) -- AUC Score : 0.6252525252525253\n",
      "(Nr_Princ_Comp , N_Neighbors) : (12, 20) -- AUC Score : 0.6141414141414141\n",
      "(Nr_Princ_Comp , N_Neighbors) : (13, 1) -- AUC Score : 0.6065656565656565\n",
      "(Nr_Princ_Comp , N_Neighbors) : (13, 2) -- AUC Score : 0.5853535353535353\n",
      "(Nr_Princ_Comp , N_Neighbors) : (13, 3) -- AUC Score : 0.5944444444444444\n",
      "(Nr_Princ_Comp , N_Neighbors) : (13, 4) -- AUC Score : 0.6505050505050505\n",
      "(Nr_Princ_Comp , N_Neighbors) : (13, 5) -- AUC Score : 0.6373737373737374\n",
      "(Nr_Princ_Comp , N_Neighbors) : (13, 6) -- AUC Score : 0.6494949494949496\n",
      "(Nr_Princ_Comp , N_Neighbors) : (13, 7) -- AUC Score : 0.6484848484848484\n",
      "(Nr_Princ_Comp , N_Neighbors) : (13, 8) -- AUC Score : 0.6429292929292929\n",
      "(Nr_Princ_Comp , N_Neighbors) : (13, 9) -- AUC Score : 0.6292929292929292\n",
      "(Nr_Princ_Comp , N_Neighbors) : (13, 10) -- AUC Score : 0.6444444444444446\n",
      "(Nr_Princ_Comp , N_Neighbors) : (13, 11) -- AUC Score : 0.6252525252525253\n",
      "(Nr_Princ_Comp , N_Neighbors) : (13, 12) -- AUC Score : 0.6348484848484848\n",
      "(Nr_Princ_Comp , N_Neighbors) : (13, 13) -- AUC Score : 0.6308080808080808\n",
      "(Nr_Princ_Comp , N_Neighbors) : (13, 14) -- AUC Score : 0.6252525252525253\n",
      "(Nr_Princ_Comp , N_Neighbors) : (13, 15) -- AUC Score : 0.6308080808080808\n",
      "(Nr_Princ_Comp , N_Neighbors) : (13, 16) -- AUC Score : 0.645959595959596\n",
      "(Nr_Princ_Comp , N_Neighbors) : (13, 17) -- AUC Score : 0.6308080808080808\n",
      "(Nr_Princ_Comp , N_Neighbors) : (13, 18) -- AUC Score : 0.645959595959596\n",
      "(Nr_Princ_Comp , N_Neighbors) : (13, 19) -- AUC Score : 0.6363636363636364\n",
      "(Nr_Princ_Comp , N_Neighbors) : (13, 20) -- AUC Score : 0.6515151515151515\n",
      "(Nr_Princ_Comp , N_Neighbors) : (14, 1) -- AUC Score : 0.5873737373737373\n",
      "(Nr_Princ_Comp , N_Neighbors) : (14, 2) -- AUC Score : 0.5590909090909091\n",
      "(Nr_Princ_Comp , N_Neighbors) : (14, 3) -- AUC Score : 0.6000000000000001\n",
      "(Nr_Princ_Comp , N_Neighbors) : (14, 4) -- AUC Score : 0.6671717171717171\n",
      "(Nr_Princ_Comp , N_Neighbors) : (14, 5) -- AUC Score : 0.6318181818181818\n",
      "(Nr_Princ_Comp , N_Neighbors) : (14, 6) -- AUC Score : 0.6454545454545454\n",
      "(Nr_Princ_Comp , N_Neighbors) : (14, 7) -- AUC Score : 0.654040404040404\n",
      "(Nr_Princ_Comp , N_Neighbors) : (14, 8) -- AUC Score : 0.6636363636363636\n",
      "(Nr_Princ_Comp , N_Neighbors) : (14, 9) -- AUC Score : 0.6292929292929292\n",
      "(Nr_Princ_Comp , N_Neighbors) : (14, 10) -- AUC Score : 0.6444444444444446\n",
      "(Nr_Princ_Comp , N_Neighbors) : (14, 11) -- AUC Score : 0.6252525252525253\n",
      "(Nr_Princ_Comp , N_Neighbors) : (14, 12) -- AUC Score : 0.6404040404040403\n",
      "(Nr_Princ_Comp , N_Neighbors) : (14, 13) -- AUC Score : 0.6308080808080808\n",
      "(Nr_Princ_Comp , N_Neighbors) : (14, 14) -- AUC Score : 0.6252525252525253\n",
      "(Nr_Princ_Comp , N_Neighbors) : (14, 15) -- AUC Score : 0.6156565656565657\n",
      "(Nr_Princ_Comp , N_Neighbors) : (14, 16) -- AUC Score : 0.6308080808080808\n",
      "(Nr_Princ_Comp , N_Neighbors) : (14, 17) -- AUC Score : 0.6308080808080808\n",
      "(Nr_Princ_Comp , N_Neighbors) : (14, 18) -- AUC Score : 0.6404040404040403\n",
      "(Nr_Princ_Comp , N_Neighbors) : (14, 19) -- AUC Score : 0.6252525252525253\n",
      "(Nr_Princ_Comp , N_Neighbors) : (14, 20) -- AUC Score : 0.6404040404040403\n"
     ]
    }
   ],
   "source": [
    "for (nr_princ_comp, n_n), auc_score in dic.items():\n",
    "    print(f'(Nr_Princ_Comp , N_Neighbors) : {(nr_princ_comp, n_n)} -- AUC Score : {auc_score}')"
   ]
  },
  {
   "cell_type": "code",
   "execution_count": 114,
   "id": "JqylWQbbeU64",
   "metadata": {
    "colab": {
     "base_uri": "https://localhost:8080/"
    },
    "id": "JqylWQbbeU64",
    "outputId": "b4dcd3fa-0570-4107-ebaa-e6bf6ad3349a"
   },
   "outputs": [
    {
     "name": "stdout",
     "output_type": "stream",
     "text": [
      "auc score 0.7065656565656566\n",
      "components 11\n",
      "neighbors 14\n"
     ]
    }
   ],
   "source": [
    "# Best parameters (components and neighbors) for only KNN model\n",
    "# other models works best using PCA(n_components=0.90)\n",
    "n_components, n_neighbors = max(dic, key=dic.get)\n",
    "print(\"auc score\", dic[(n_components, n_neighbors)])\n",
    "print(\"components\", n_components)\n",
    "print(\"neighbors\", n_neighbors)"
   ]
  },
  {
   "cell_type": "code",
   "execution_count": 115,
   "id": "41db476f",
   "metadata": {
    "colab": {
     "base_uri": "https://localhost:8080/"
    },
    "id": "41db476f",
    "outputId": "353e76da-c773-4f8f-aa5a-d9b2aa83dca9"
   },
   "outputs": [
    {
     "data": {
      "text/plain": [
       "(491, 16)"
      ]
     },
     "execution_count": 115,
     "metadata": {},
     "output_type": "execute_result"
    }
   ],
   "source": [
    "X_train.shape"
   ]
  },
  {
   "cell_type": "code",
   "execution_count": 116,
   "id": "100d162b",
   "metadata": {
    "colab": {
     "base_uri": "https://localhost:8080/"
    },
    "id": "100d162b",
    "outputId": "381aa13a-e8c3-4d14-9c35-f8d524d1a874"
   },
   "outputs": [
    {
     "name": "stdout",
     "output_type": "stream",
     "text": [
      "[0.14016912 0.10341561 0.10121114 0.09755061 0.08237967 0.07406375\n",
      " 0.07100184 0.06391005 0.05950124 0.05536783 0.05131308 0.04837278]\n",
      "0.9482567114192371\n"
     ]
    }
   ],
   "source": [
    "pca = PCA(n_components=0.90, random_state = 0)\n",
    "X_new = pca.fit(X_train)\n",
    "X_train = pca.transform(X_train)\n",
    "X_test = pca.transform(X_test)\n",
    "\n",
    "print(pca.explained_variance_ratio_)\n",
    "print(np.sum(pca.explained_variance_ratio_))"
   ]
  },
  {
   "cell_type": "code",
   "execution_count": 117,
   "id": "7fcbf8ea",
   "metadata": {
    "colab": {
     "base_uri": "https://localhost:8080/"
    },
    "id": "7fcbf8ea",
    "outputId": "7dbf7412-bf78-4d6b-f338-f8e5710e00db"
   },
   "outputs": [
    {
     "data": {
      "text/plain": [
       "(491, 12)"
      ]
     },
     "execution_count": 117,
     "metadata": {},
     "output_type": "execute_result"
    }
   ],
   "source": [
    "X_train.shape"
   ]
  },
  {
   "cell_type": "code",
   "execution_count": 118,
   "id": "2Wqyc7FhYqeA",
   "metadata": {
    "colab": {
     "base_uri": "https://localhost:8080/"
    },
    "id": "2Wqyc7FhYqeA",
    "outputId": "cd87ad5f-aff3-49a1-e187-affa5494f9f5"
   },
   "outputs": [
    {
     "data": {
      "text/plain": [
       "1    332\n",
       "0    159\n",
       "Name: Loan_Status, dtype: int64"
      ]
     },
     "execution_count": 118,
     "metadata": {},
     "output_type": "execute_result"
    }
   ],
   "source": [
    "Y_train.value_counts()"
   ]
  },
  {
   "cell_type": "markdown",
   "id": "6_Yo44VB4WA4",
   "metadata": {
    "id": "6_Yo44VB4WA4"
   },
   "source": [
    "## SMOTE"
   ]
  },
  {
   "cell_type": "code",
   "execution_count": 119,
   "id": "1540efc9",
   "metadata": {
    "colab": {
     "base_uri": "https://localhost:8080/"
    },
    "id": "1540efc9",
    "outputId": "05268a80-6984-4137-88fa-ed34cc4b0594"
   },
   "outputs": [
    {
     "data": {
      "text/plain": [
       "0      1\n",
       "1      0\n",
       "2      0\n",
       "3      1\n",
       "4      1\n",
       "      ..\n",
       "659    0\n",
       "660    0\n",
       "661    0\n",
       "662    0\n",
       "663    0\n",
       "Name: Loan_Status, Length: 664, dtype: int64"
      ]
     },
     "execution_count": 119,
     "metadata": {},
     "output_type": "execute_result"
    }
   ],
   "source": [
    "smote = SMOTE(random_state=0)\n",
    "X_train, Y_train = smote.fit_resample(X_train, Y_train)\n",
    "Y_train"
   ]
  },
  {
   "cell_type": "code",
   "execution_count": 120,
   "id": "aaaa84a4",
   "metadata": {
    "colab": {
     "base_uri": "https://localhost:8080/"
    },
    "id": "aaaa84a4",
    "outputId": "26fbef23-a167-4e76-a89b-31b0a7cd269f"
   },
   "outputs": [
    {
     "data": {
      "text/plain": [
       "0    332\n",
       "1    332\n",
       "Name: Loan_Status, dtype: int64"
      ]
     },
     "execution_count": 120,
     "metadata": {},
     "output_type": "execute_result"
    }
   ],
   "source": [
    "# check if it is balanced\n",
    "Y_train.value_counts()"
   ]
  },
  {
   "cell_type": "code",
   "execution_count": 121,
   "id": "Adjbl0rwXIif",
   "metadata": {
    "colab": {
     "base_uri": "https://localhost:8080/"
    },
    "id": "Adjbl0rwXIif",
    "outputId": "c30cc00a-c607-4478-d61a-b210cca15c71"
   },
   "outputs": [
    {
     "data": {
      "text/plain": [
       "array([[-0.49365517, -0.13037993, -0.6242737 , ..., -0.03083136,\n",
       "        -0.26491953,  0.14533456],\n",
       "       [ 0.84541904,  2.07397929, -1.6286172 , ..., -0.8693729 ,\n",
       "        -1.13586537, -0.78088895],\n",
       "       [-0.1784536 , -0.4103148 ,  2.13103154, ..., -1.17321249,\n",
       "         0.30036881,  0.89056459],\n",
       "       ...,\n",
       "       [ 2.73117848,  1.1012561 , -0.11388807, ...,  0.25445983,\n",
       "         1.46140685,  0.37811982],\n",
       "       [-0.45058218, -1.0502389 ,  2.17585787, ..., -0.49337833,\n",
       "         0.42121716, -0.83224413],\n",
       "       [-1.84340964, -0.12592435,  0.23512962, ..., -0.00309164,\n",
       "        -0.81692433,  0.35275712]])"
      ]
     },
     "execution_count": 121,
     "metadata": {},
     "output_type": "execute_result"
    },
    {
     "data": {
      "image/png": "[encoded data removed]",
      "text/plain": [
       "<Figure size 432x360 with 1 Axes>"
      ]
     },
     "metadata": {},
     "output_type": "display_data"
    }
   ],
   "source": [
    "sns.set_style('whitegrid')\n",
    "sns.countplot(x='Loan_Status',data={ \"Loan_Status\": Y_train })\n",
    "X_train"
   ]
  },
  {
   "cell_type": "markdown",
   "id": "66c93345",
   "metadata": {
    "id": "66c93345"
   },
   "source": [
    "# K-Nearest Neighbors"
   ]
  },
  {
   "cell_type": "code",
   "execution_count": 122,
   "id": "066b4c48",
   "metadata": {
    "colab": {
     "base_uri": "https://localhost:8080/"
    },
    "id": "066b4c48",
    "outputId": "7963688c-2e19-4744-cf24-2b42e8630069"
   },
   "outputs": [
    {
     "data": {
      "text/plain": [
       "KNeighborsClassifier()"
      ]
     },
     "execution_count": 122,
     "metadata": {},
     "output_type": "execute_result"
    }
   ],
   "source": [
    "# default number of neighbours=5\n",
    "knn = KNeighborsClassifier()\n",
    "knn.fit(X_train, Y_train)"
   ]
  },
  {
   "cell_type": "code",
   "execution_count": 123,
   "id": "7c4f13d5",
   "metadata": {
    "colab": {
     "base_uri": "https://localhost:8080/"
    },
    "id": "7c4f13d5",
    "outputId": "f76eaa74-300b-4590-dc13-0a566fae71b6"
   },
   "outputs": [
    {
     "name": "stdout",
     "output_type": "stream",
     "text": [
      "              precision    recall  f1-score   support\n",
      "\n",
      "           0       0.41      0.55      0.47        33\n",
      "           1       0.81      0.71      0.76        90\n",
      "\n",
      "    accuracy                           0.67       123\n",
      "   macro avg       0.61      0.63      0.61       123\n",
      "weighted avg       0.70      0.67      0.68       123\n",
      "\n"
     ]
    }
   ],
   "source": [
    "pred = knn.predict(X_test)\n",
    "print(classification_report(Y_test, pred))"
   ]
  },
  {
   "cell_type": "code",
   "execution_count": 124,
   "id": "053ebfbb",
   "metadata": {
    "colab": {
     "base_uri": "https://localhost:8080/"
    },
    "id": "053ebfbb",
    "outputId": "02929e8a-f162-4162-f3bf-f0e3f8f7c76a"
   },
   "outputs": [
    {
     "name": "stdout",
     "output_type": "stream",
     "text": [
      "0.6282828282828283\n"
     ]
    }
   ],
   "source": [
    "roc = roc_auc_score(Y_test, pred)\n",
    "print(roc)"
   ]
  },
  {
   "cell_type": "code",
   "execution_count": 125,
   "id": "808e56f7",
   "metadata": {
    "colab": {
     "base_uri": "https://localhost:8080/",
     "height": 296
    },
    "id": "808e56f7",
    "outputId": "54816b0d-0885-4f03-eec7-555a9dc6a1f8"
   },
   "outputs": [
    {
     "data": {
      "image/png": "[encoded data removed]",
      "text/plain": [
       "<Figure size 432x360 with 1 Axes>"
      ]
     },
     "metadata": {},
     "output_type": "display_data"
    },
    {
     "name": "stdout",
     "output_type": "stream",
     "text": [
      "KNN best accuracy: 73.98%\n"
     ]
    }
   ],
   "source": [
    "## Hyperparameter tuning\n",
    "\n",
    "scoreListknn = []\n",
    "for i in range(1,21):\n",
    "    KNclassifier = KNeighborsClassifier(n_neighbors = i)\n",
    "    KNclassifier.fit(X_train, Y_train)\n",
    "    scoreListknn.append(KNclassifier.score(X_test, Y_test))\n",
    "    \n",
    "plt.plot(range(1,21), scoreListknn)\n",
    "plt.xticks(np.arange(1,21,1))\n",
    "plt.xlabel(\"K value\")\n",
    "plt.ylabel(\"Score\")\n",
    "plt.show()\n",
    "KNAcc = max(scoreListknn)\n",
    "print(\"KNN best accuracy: {:.2f}%\".format(KNAcc*100))\n"
   ]
  },
  {
   "cell_type": "markdown",
   "id": "a26df26e",
   "metadata": {
    "id": "a26df26e"
   },
   "source": [
    "In test set, which is imbalanced we must not use accuracy score, even if the accuracy would result high."
   ]
  },
  {
   "cell_type": "code",
   "execution_count": 126,
   "id": "8b70d763",
   "metadata": {
    "colab": {
     "base_uri": "https://localhost:8080/"
    },
    "id": "8b70d763",
    "outputId": "31f959e3-fe14-4778-cb27-39094d8b32c1"
   },
   "outputs": [
    {
     "data": {
      "text/plain": [
       "KNeighborsClassifier(n_neighbors=13)"
      ]
     },
     "execution_count": 126,
     "metadata": {},
     "output_type": "execute_result"
    }
   ],
   "source": [
    "# create a new model with no. of neighbour 13\n",
    "\n",
    "KNclassifier = KNeighborsClassifier(n_neighbors = 13)\n",
    "KNclassifier.fit(X_train, Y_train)"
   ]
  },
  {
   "cell_type": "code",
   "execution_count": 127,
   "id": "df79d8ab",
   "metadata": {
    "colab": {
     "base_uri": "https://localhost:8080/"
    },
    "id": "df79d8ab",
    "outputId": "9486fd26-8781-4dc4-b763-049361e5c506"
   },
   "outputs": [
    {
     "name": "stdout",
     "output_type": "stream",
     "text": [
      "              precision    recall  f1-score   support\n",
      "\n",
      "           0       0.51      0.64      0.57        33\n",
      "           1       0.85      0.78      0.81        90\n",
      "\n",
      "    accuracy                           0.74       123\n",
      "   macro avg       0.68      0.71      0.69       123\n",
      "weighted avg       0.76      0.74      0.75       123\n",
      "\n"
     ]
    }
   ],
   "source": [
    "pred = KNclassifier.predict(X_test)\n",
    "print(classification_report(Y_test, pred))"
   ]
  },
  {
   "cell_type": "markdown",
   "id": "xnAFLkYC2Zrn",
   "metadata": {
    "id": "xnAFLkYC2Zrn"
   },
   "source": [
    "# Gaussian Naive Bayes"
   ]
  },
  {
   "cell_type": "code",
   "execution_count": 128,
   "id": "qaXRgZpcQYDw",
   "metadata": {
    "colab": {
     "base_uri": "https://localhost:8080/"
    },
    "id": "qaXRgZpcQYDw",
    "outputId": "279ab843-6379-407e-d941-bbe0ee6543ef"
   },
   "outputs": [
    {
     "data": {
      "text/plain": [
       "GaussianNB(var_smoothing=0.9202966808760416)"
      ]
     },
     "execution_count": 128,
     "metadata": {},
     "output_type": "execute_result"
    }
   ],
   "source": [
    "# Gaussian classifier\n",
    "NBclassifier = GaussianNB(var_smoothing=0.9202966808760416)\n",
    "NBclassifier.fit(X_train, Y_train)"
   ]
  },
  {
   "cell_type": "code",
   "execution_count": 129,
   "id": "C6i1TekHTj3N",
   "metadata": {
    "colab": {
     "base_uri": "https://localhost:8080/"
    },
    "id": "C6i1TekHTj3N",
    "outputId": "ebc352a2-1821-4519-e7a7-319b7d02fa26"
   },
   "outputs": [
    {
     "name": "stdout",
     "output_type": "stream",
     "text": [
      "Fitting 5 folds for each of 500 candidates, totalling 2500 fits\n"
     ]
    },
    {
     "data": {
      "text/plain": [
       "{'var_smoothing': 0.9202966808760416}"
      ]
     },
     "execution_count": 129,
     "metadata": {},
     "output_type": "execute_result"
    }
   ],
   "source": [
    "params_NB = {'var_smoothing': np.logspace(0,-9, num=500)}\n",
    "gs_NB = GridSearchCV(estimator=NBclassifier, \n",
    "                 param_grid=params_NB, \n",
    "                 verbose=1,\n",
    "                 refit=True, \n",
    "                 scoring='f1',\n",
    "                 n_jobs=-1)\n",
    "\n",
    "gs_NB.fit(X_train, Y_train)\n",
    "gs_NB.best_params_"
   ]
  },
  {
   "cell_type": "markdown",
   "id": "vCCVFE93f4oW",
   "metadata": {
    "id": "vCCVFE93f4oW"
   },
   "source": [
    "# Logistic Regression"
   ]
  },
  {
   "cell_type": "code",
   "execution_count": 130,
   "id": "VF7KJNythu0e",
   "metadata": {
    "colab": {
     "base_uri": "https://localhost:8080/"
    },
    "id": "VF7KJNythu0e",
    "outputId": "d22b12f9-a380-48bf-8a26-ef8f9a88e3bb"
   },
   "outputs": [
    {
     "data": {
      "text/plain": [
       "LogisticRegression(random_state=42, solver='liblinear')"
      ]
     },
     "execution_count": 130,
     "metadata": {},
     "output_type": "execute_result"
    }
   ],
   "source": [
    "LRclassifier = LogisticRegression(C = 1.0, solver = 'liblinear', random_state = 42)\n",
    "LRclassifier.fit(X_train, Y_train)\n",
    "\n"
   ]
  },
  {
   "cell_type": "code",
   "execution_count": 131,
   "id": "ug9GctIogG7f",
   "metadata": {
    "colab": {
     "base_uri": "https://localhost:8080/"
    },
    "id": "ug9GctIogG7f",
    "outputId": "96fa1cbe-4d39-42a2-a76b-8072e663218b"
   },
   "outputs": [
    {
     "name": "stdout",
     "output_type": "stream",
     "text": [
      "Fitting 5 folds for each of 1980 candidates, totalling 9900 fits\n"
     ]
    },
    {
     "data": {
      "text/plain": [
       "{'C': 1.0, 'solver': 'liblinear'}"
      ]
     },
     "execution_count": 131,
     "metadata": {},
     "output_type": "execute_result"
    }
   ],
   "source": [
    "from sklearn.model_selection import GridSearchCV\n",
    "paramsLR = {'solver':['liblinear', 'saga', 'newton-cg', 'saga', 'sag', 'lbfgs'], 'C': np.arange (1, 100, 0.3) }\n",
    "gsLR = GridSearchCV(estimator=LRclassifier, \n",
    "                     param_grid=paramsLR, \n",
    "                     verbose=1,\n",
    "                     refit=False, \n",
    "                     scoring='f1', \n",
    "                     n_jobs=-1)\n",
    "gsLR.fit(X_train, Y_train)\n",
    "gsLR.best_params_"
   ]
  },
  {
   "cell_type": "markdown",
   "id": "azGgZCd7Kpac",
   "metadata": {
    "id": "azGgZCd7Kpac"
   },
   "source": [
    "# Support Vector Machine\n"
   ]
  },
  {
   "cell_type": "code",
   "execution_count": 132,
   "id": "Nim55hVfK-Ux",
   "metadata": {
    "colab": {
     "base_uri": "https://localhost:8080/"
    },
    "id": "Nim55hVfK-Ux",
    "outputId": "2a304d39-fadf-4551-9ebc-f93e33474263"
   },
   "outputs": [
    {
     "name": "stdout",
     "output_type": "stream",
     "text": [
      "Fitting 5 folds for each of 64 candidates, totalling 320 fits\n",
      "SVC(C=1, gamma=1)\n",
      "{'C': 1, 'gamma': 1, 'kernel': 'rbf'}\n",
      "\n",
      "[[12 21]\n",
      " [19 71]]\n",
      "              precision    recall  f1-score   support\n",
      "\n",
      "           0       0.39      0.36      0.38        33\n",
      "           1       0.77      0.79      0.78        90\n",
      "\n",
      "    accuracy                           0.67       123\n",
      "   macro avg       0.58      0.58      0.58       123\n",
      "weighted avg       0.67      0.67      0.67       123\n",
      "\n"
     ]
    },
    {
     "data": {
      "text/plain": [
       "SVC(C=100, gamma=1, probability=True)"
      ]
     },
     "execution_count": 132,
     "metadata": {},
     "output_type": "execute_result"
    }
   ],
   "source": [
    "param_grid = {'C': [0.1,1, 10, 100], 'gamma': [1,0.1,0.01,0.001],'kernel': ['rbf', 'poly', 'sigmoid', 'linear']}\n",
    "\n",
    "svc_grid_search = GridSearchCV(estimator=SVC(),param_grid=param_grid,verbose=1, refit=True, scoring='f1', n_jobs=-1)\n",
    "svc_grid_search.fit(X_train,Y_train)\n",
    "\n",
    "print(svc_grid_search.best_estimator_)\n",
    "print(svc_grid_search.best_params_)\n",
    "print()\n",
    "\n",
    "svc_classifier = SVC(C=100, gamma=1, kernel='poly');\n",
    "svc_classifier.fit(X_train,Y_train);\n",
    "\n",
    "Y_pred = svc_grid_search.predict(X_test)\n",
    "print(confusion_matrix(Y_test,Y_pred))\n",
    "print(classification_report(Y_test,Y_pred))\n",
    "\n",
    "svc_classifier = SVC(C= 100, gamma= 1, kernel= 'rbf', probability=True)\n",
    "svc_classifier.fit(X_train,Y_train)"
   ]
  },
  {
   "cell_type": "markdown",
   "id": "Fncl9HPaK6t5",
   "metadata": {
    "id": "Fncl9HPaK6t5"
   },
   "source": [
    "# Metrics"
   ]
  },
  {
   "cell_type": "code",
   "execution_count": 141,
   "id": "SFRyY3nlRhk4",
   "metadata": {
    "id": "SFRyY3nlRhk4"
   },
   "outputs": [],
   "source": [
    "def build_auc_plot(classifiers, X_data, y_data):\n",
    "    fig, ax = plt.subplots()\n",
    "\n",
    "    for classifier in classifiers:\n",
    "        model_name = type(classifier).__name__\n",
    "        y_pred = classifier.predict(X_data)\n",
    "        y_pred_proba = classifier.predict_proba(X_data)[::,1]\n",
    "        fpr, tpr, _ = metrics.roc_curve(y_data,  y_pred_proba)\n",
    "    \n",
    "        auc2 =  roc_auc_score(y_data, y_pred)\n",
    "        # auc = metrics.roc_auc_score(y_data, y_pred_proba)\n",
    "        plt.plot(fpr,tpr,label=f\"{model_name}, auc={int(round(auc2*100))}%\")\n",
    "\n",
    "    plt.plot([0, 1], [0, 1], color=\"navy\", lw=2, linestyle=\"--\")\n",
    "    plt.xlabel('False Positive Rate')\n",
    "    plt.ylabel('True Positive Rate')\n",
    "\n",
    "    plt.legend()\n",
    "    plt.show()\n",
    "\n",
    "def show_details(X_data, y_data, classifier, cv):\n",
    "    y_pred = classifier.predict(X_data)\n",
    "    model_name = type(classifier).__name__\n",
    "\n",
    "    scores = cross_val_score(classifier, X, Y, cv=cv)\n",
    "    class_report = classification_report(y_data, y_pred)\n",
    "    confusion = confusion_matrix(y_data, y_pred)\n",
    "    roc = roc_auc_score(y_data, y_pred)\n",
    "\n",
    "    print(f\" {model_name} \".center(60, \"=\"))\n",
    "\n",
    "    print(class_report)\n",
    "    print(confusion)\n",
    "    print(f\"{model_name} roc: {roc*100:.2f}%\")\n",
    "    print(scores)\n",
    "    print(\"%0.2f accuracy with a standard deviation of %0.2f\" % (scores.mean(), scores.std()))\n",
    "\n",
    "    disp = ConfusionMatrixDisplay(confusion_matrix=confusion, display_labels=[\"non approved\", \"approved\"])\n",
    "    disp.plot(cmap=plt.cm.Blues)\n",
    "    plt.show()\n",
    "\n",
    "    build_auc_plot([classifier], X_data, y_data)\n",
    "\n",
    "    print(\"\\n\\n\")"
   ]
  },
  {
   "cell_type": "code",
   "execution_count": 142,
   "id": "sqQ8teD_O8iU",
   "metadata": {
    "id": "sqQ8teD_O8iU"
   },
   "outputs": [],
   "source": [
    "def create_report(X_data, y_data, classifiers, cv=5):\n",
    "    report = {}\n",
    "  \n",
    "    for classifier in classifiers:\n",
    "        y_pred = classifier.predict(X_data)\n",
    "        model_name = type(classifier).__name__\n",
    "\n",
    "        report[model_name] = {}\n",
    "        report[model_name]['roc'] = roc_auc_score(y_data, y_pred)\n",
    "        report[model_name]['confusion_matrix'] = confusion_matrix(y_data, y_pred)\n",
    "        report[model_name]['cross_val'] = cross_val_score(classifier, X, Y, cv=cv)\n",
    "        report[model_name]['metrics'] = classification_report(y_data, y_pred, output_dict=True)\n",
    "\n",
    "    return report"
   ]
  },
  {
   "cell_type": "code",
   "execution_count": 143,
   "id": "x41BH6K4O520",
   "metadata": {
    "id": "x41BH6K4O520"
   },
   "outputs": [],
   "source": [
    "def build_cell(component, width=31):\n",
    "    if type(component) == str:\n",
    "        return component.center(width)\n",
    "    elif type(component) == int:\n",
    "        return f\"{component}\".center(width)\n",
    "    elif type(component) == np.float64 or type(component) == float:\n",
    "        return f\"{component*100:.2f}%\".center(width)\n",
    "    elif type(component) == list or type(component) == set:\n",
    "        return \"|\".join(map(lambda x: build_cell(x, width=width//len(component)), component))\n",
    "    else:\n",
    "        print(component)\n",
    "        print(type(component))\n",
    "\n",
    "def build_row(components, width=31):\n",
    "    center = \"|\".join([build_cell(component, width=width) for component in components])\n",
    "    row = f\"|{center}|\"\n",
    "    return row\n",
    "\n",
    "def build_table(rows, heading=None):\n",
    "    if not rows:\n",
    "        return \"\"\n",
    "  \n",
    "    rows = list(map(lambda x: build_row(x), rows))\n",
    "    row_separator = \"-\" * len(rows[0])\n",
    "    output = row_separator + \"\\n\"\n",
    "\n",
    "    if heading:\n",
    "        output += build_row([ heading ], width=len(rows[0]) - 2) + \"\\n\" + row_separator + \"\\n\"\n",
    "\n",
    "    for row in rows:\n",
    "        output += row + \"\\n\" + row_separator + \"\\n\"\n",
    "\n",
    "    return output\n",
    "\n",
    "def render_confusion_matrix(cf):\n",
    "    return f\"{cf[0][0]} {cf[0][1]} - {cf[1][0]} {cf[1][1]}\"\n",
    "\n",
    "def render_cross_val(cv):\n",
    "    return f\"{cv.mean()*100:.2f}% ({cv.std():.2f})\"\n",
    "  \n",
    "def print_report(name, report):\n",
    "    cv = len(list(report.values())[0]['cross_val'])\n",
    "\n",
    "    rows = [\n",
    "        [ '-', 'precision', 'recall', 'f1-score', 'support', 'roc', 'confusion matrix', f'cross val (cv={cv})' ],\n",
    "        [ '(class)', ['0', '1'], ['0', '1'], ['0', '1'], ['0', '1'], '-', '-', '-' ]\n",
    "  ]\n",
    "\n",
    "    for model_name, data in report.items():\n",
    "        metrics = [ [ data['metrics'][c][metric] for c in [ '0', '1' ] ] for metric in [ 'precision', 'recall', 'f1-score', 'support' ] ]\n",
    "        row = [model_name, *metrics, data['roc'], render_confusion_matrix(data['confusion_matrix']), render_cross_val(data['cross_val'])]\n",
    "        rows.append(row)\n",
    "\n",
    "    print(build_table(rows, heading=name))"
   ]
  },
  {
   "cell_type": "code",
   "execution_count": 144,
   "id": "0XuKOorwNghz",
   "metadata": {
    "id": "0XuKOorwNghz"
   },
   "outputs": [],
   "source": [
    "# testing parameters\n",
    "classifiers = [ NBclassifier, knn, LRclassifier, svc_classifier ]\n",
    "\n",
    "# see cv parameter\n",
    "# https://scikit-learn.org/stable/modules/generated/sklearn.model_selection.cross_val_score.html#sklearn.model_selection.cross_val_score\n",
    "cv_generator = 6"
   ]
  },
  {
   "cell_type": "code",
   "execution_count": 145,
   "id": "sd93NnMTP-WU",
   "metadata": {
    "colab": {
     "base_uri": "https://localhost:8080/"
    },
    "id": "sd93NnMTP-WU",
    "outputId": "f0099abe-9fc2-4b7b-878d-0f04d511c0f7"
   },
   "outputs": [
    {
     "name": "stdout",
     "output_type": "stream",
     "text": [
      "-----------------------------------------------------------------------------------------------------------------------------------------------------------------------------------------------------------------------------------------------------------------\n",
      "|                                                                                                                          training set                                                                                                                         |\n",
      "-----------------------------------------------------------------------------------------------------------------------------------------------------------------------------------------------------------------------------------------------------------------\n",
      "|               -               |           precision           |             recall            |            f1-score           |            support            |              roc              |        confusion matrix       |        cross val (cv=6)       |\n",
      "-----------------------------------------------------------------------------------------------------------------------------------------------------------------------------------------------------------------------------------------------------------------\n",
      "|            (class)            |       0       |       1       |       0       |       1       |       0       |       1       |       0       |       1       |               -               |               -               |               -               |\n",
      "-----------------------------------------------------------------------------------------------------------------------------------------------------------------------------------------------------------------------------------------------------------------\n",
      "|           GaussianNB          |     96.18%    |     64.30%    |     45.48%    |     98.19%    |     61.76%    |     77.71%    |      332      |      332      |             71.84%            |        151 181 - 6 326        |         68.73% (0.00)         |\n",
      "-----------------------------------------------------------------------------------------------------------------------------------------------------------------------------------------------------------------------------------------------------------------\n",
      "|      KNeighborsClassifier     |     84.13%    |     84.55%    |     84.64%    |     84.04%    |     84.38%    |     84.29%    |      332      |      332      |             84.34%            |        281 51 - 53 279        |         64.32% (0.05)         |\n",
      "-----------------------------------------------------------------------------------------------------------------------------------------------------------------------------------------------------------------------------------------------------------------\n",
      "|       LogisticRegression      |     85.38%    |     66.59%    |     54.52%    |     90.66%    |     66.54%    |     76.79%    |      332      |      332      |             72.59%            |        181 151 - 31 301       |         80.79% (0.03)         |\n",
      "-----------------------------------------------------------------------------------------------------------------------------------------------------------------------------------------------------------------------------------------------------------------\n",
      "|              SVC              |     97.92%    |     99.39%    |     99.40%    |     97.89%    |     98.65%    |     98.63%    |      332      |      332      |             98.64%            |         330 2 - 7 325         |         69.06% (0.01)         |\n",
      "-----------------------------------------------------------------------------------------------------------------------------------------------------------------------------------------------------------------------------------------------------------------\n",
      "\n"
     ]
    }
   ],
   "source": [
    "report = create_report(X_train, Y_train, classifiers, cv=cv_generator)\n",
    "print_report(\"training set\", report)"
   ]
  },
  {
   "cell_type": "code",
   "execution_count": 146,
   "id": "sm2fX8f0NuSc",
   "metadata": {
    "colab": {
     "base_uri": "https://localhost:8080/"
    },
    "id": "sm2fX8f0NuSc",
    "outputId": "09f84ab9-92eb-49a2-999b-57fbdda8fe63"
   },
   "outputs": [
    {
     "name": "stdout",
     "output_type": "stream",
     "text": [
      "-----------------------------------------------------------------------------------------------------------------------------------------------------------------------------------------------------------------------------------------------------------------\n",
      "|                                                                                                                            test set                                                                                                                           |\n",
      "-----------------------------------------------------------------------------------------------------------------------------------------------------------------------------------------------------------------------------------------------------------------\n",
      "|               -               |           precision           |             recall            |            f1-score           |            support            |              roc              |        confusion matrix       |        cross val (cv=6)       |\n",
      "-----------------------------------------------------------------------------------------------------------------------------------------------------------------------------------------------------------------------------------------------------------------\n",
      "|            (class)            |       0       |       1       |       0       |       1       |       0       |       1       |       0       |       1       |               -               |               -               |               -               |\n",
      "-----------------------------------------------------------------------------------------------------------------------------------------------------------------------------------------------------------------------------------------------------------------\n",
      "|           GaussianNB          |     87.50%    |     82.24%    |     42.42%    |     97.78%    |     57.14%    |     89.34%    |       33      |       90      |             70.10%            |          14 19 - 2 88         |         68.73% (0.00)         |\n",
      "-----------------------------------------------------------------------------------------------------------------------------------------------------------------------------------------------------------------------------------------------------------------\n",
      "|      KNeighborsClassifier     |     40.91%    |     81.01%    |     54.55%    |     71.11%    |     46.75%    |     75.74%    |       33      |       90      |             62.83%            |         18 15 - 26 64         |         64.32% (0.05)         |\n",
      "-----------------------------------------------------------------------------------------------------------------------------------------------------------------------------------------------------------------------------------------------------------------\n",
      "|       LogisticRegression      |     64.29%    |     84.21%    |     54.55%    |     88.89%    |     59.02%    |     86.49%    |       33      |       90      |             71.72%            |         18 15 - 10 80         |         80.79% (0.03)         |\n",
      "-----------------------------------------------------------------------------------------------------------------------------------------------------------------------------------------------------------------------------------------------------------------\n",
      "|              SVC              |     39.13%    |     76.00%    |     27.27%    |     84.44%    |     32.14%    |     80.00%    |       33      |       90      |             55.86%            |          9 24 - 14 76         |         69.06% (0.01)         |\n",
      "-----------------------------------------------------------------------------------------------------------------------------------------------------------------------------------------------------------------------------------------------------------------\n",
      "\n"
     ]
    }
   ],
   "source": [
    "report = create_report(X_test, Y_test, classifiers, cv=cv_generator)\n",
    "print_report(\"test set\", report)"
   ]
  },
  {
   "cell_type": "code",
   "execution_count": 147,
   "id": "Zy2ktzFEPn3B",
   "metadata": {
    "colab": {
     "base_uri": "https://localhost:8080/",
     "height": 1000
    },
    "id": "Zy2ktzFEPn3B",
    "outputId": "35711b00-bcfc-43f5-c131-3f26ee418eea"
   },
   "outputs": [
    {
     "name": "stdout",
     "output_type": "stream",
     "text": [
      "======================== GaussianNB ========================\n",
      "              precision    recall  f1-score   support\n",
      "\n",
      "           0       0.88      0.42      0.57        33\n",
      "           1       0.82      0.98      0.89        90\n",
      "\n",
      "    accuracy                           0.83       123\n",
      "   macro avg       0.85      0.70      0.73       123\n",
      "weighted avg       0.84      0.83      0.81       123\n",
      "\n",
      "[[14 19]\n",
      " [ 2 88]]\n",
      "GaussianNB roc: 70.10%\n",
      "[0.68932039 0.68932039 0.68627451 0.68627451 0.68627451 0.68627451]\n",
      "0.69 accuracy with a standard deviation of 0.00\n"
     ]
    },
    {
     "data": {
      "image/png": "[encoded data removed]",
      "text/plain": [
       "<Figure size 432x360 with 2 Axes>"
      ]
     },
     "metadata": {},
     "output_type": "display_data"
    },
    {
     "data": {
      "image/png": "[encoded data removed]",
      "text/plain": [
       "<Figure size 432x360 with 1 Axes>"
      ]
     },
     "metadata": {},
     "output_type": "display_data"
    },
    {
     "name": "stdout",
     "output_type": "stream",
     "text": [
      "\n",
      "\n",
      "\n",
      "=================== KNeighborsClassifier ===================\n",
      "              precision    recall  f1-score   support\n",
      "\n",
      "           0       0.41      0.55      0.47        33\n",
      "           1       0.81      0.71      0.76        90\n",
      "\n",
      "    accuracy                           0.67       123\n",
      "   macro avg       0.61      0.63      0.61       123\n",
      "weighted avg       0.70      0.67      0.68       123\n",
      "\n",
      "[[18 15]\n",
      " [26 64]]\n",
      "KNeighborsClassifier roc: 62.83%\n",
      "[0.7184466  0.66990291 0.59803922 0.65686275 0.54901961 0.66666667]\n",
      "0.64 accuracy with a standard deviation of 0.05\n"
     ]
    },
    {
     "data": {
      "image/png": "[encoded data removed]",
      "text/plain": [
       "<Figure size 432x360 with 2 Axes>"
      ]
     },
     "metadata": {},
     "output_type": "display_data"
    },
    {
     "data": {
      "image/png": "[encoded data removed]",
      "text/plain": [
       "<Figure size 432x360 with 1 Axes>"
      ]
     },
     "metadata": {},
     "output_type": "display_data"
    },
    {
     "name": "stdout",
     "output_type": "stream",
     "text": [
      "\n",
      "\n",
      "\n",
      "==================== LogisticRegression ====================\n",
      "              precision    recall  f1-score   support\n",
      "\n",
      "           0       0.64      0.55      0.59        33\n",
      "           1       0.84      0.89      0.86        90\n",
      "\n",
      "    accuracy                           0.80       123\n",
      "   macro avg       0.74      0.72      0.73       123\n",
      "weighted avg       0.79      0.80      0.79       123\n",
      "\n",
      "[[18 15]\n",
      " [10 80]]\n",
      "LogisticRegression roc: 71.72%\n",
      "[0.82524272 0.76699029 0.7745098  0.81372549 0.83333333 0.83333333]\n",
      "0.81 accuracy with a standard deviation of 0.03\n"
     ]
    },
    {
     "data": {
      "image/png": "[encoded data removed]",
      "text/plain": [
       "<Figure size 432x360 with 2 Axes>"
      ]
     },
     "metadata": {},
     "output_type": "display_data"
    },
    {
     "data": {
      "image/png": "[encoded data removed]",
      "text/plain": [
       "<Figure size 432x360 with 1 Axes>"
      ]
     },
     "metadata": {},
     "output_type": "display_data"
    },
    {
     "name": "stdout",
     "output_type": "stream",
     "text": [
      "\n",
      "\n",
      "\n",
      "=========================== SVC ============================\n",
      "              precision    recall  f1-score   support\n",
      "\n",
      "           0       0.39      0.27      0.32        33\n",
      "           1       0.76      0.84      0.80        90\n",
      "\n",
      "    accuracy                           0.69       123\n",
      "   macro avg       0.58      0.56      0.56       123\n",
      "weighted avg       0.66      0.69      0.67       123\n",
      "\n",
      "[[ 9 24]\n",
      " [14 76]]\n",
      "SVC roc: 55.86%\n",
      "[0.68932039 0.68932039 0.67647059 0.69607843 0.70588235 0.68627451]\n",
      "0.69 accuracy with a standard deviation of 0.01\n"
     ]
    },
    {
     "data": {
      "image/png": "[encoded data removed]",
      "text/plain": [
       "<Figure size 432x360 with 2 Axes>"
      ]
     },
     "metadata": {},
     "output_type": "display_data"
    },
    {
     "data": {
      "image/png": "[encoded data removed]",
      "text/plain": [
       "<Figure size 432x360 with 1 Axes>"
      ]
     },
     "metadata": {},
     "output_type": "display_data"
    },
    {
     "name": "stdout",
     "output_type": "stream",
     "text": [
      "\n",
      "\n",
      "\n"
     ]
    }
   ],
   "source": [
    "for classifier in classifiers:\n",
    "  show_details(X_test, Y_test, classifier, cv=cv_generator)"
   ]
  },
  {
   "cell_type": "code",
   "execution_count": 148,
   "id": "xazqIvegSU9G",
   "metadata": {
    "colab": {
     "base_uri": "https://localhost:8080/",
     "height": 610
    },
    "id": "xazqIvegSU9G",
    "outputId": "9ae2f9b3-dc98-4b67-931c-5fed21eff8ba"
   },
   "outputs": [
    {
     "name": "stdout",
     "output_type": "stream",
     "text": [
      "Training roc curve\n"
     ]
    },
    {
     "data": {
      "image/png": "[encoded data removed]",
      "text/plain": [
       "<Figure size 432x360 with 1 Axes>"
      ]
     },
     "metadata": {},
     "output_type": "display_data"
    },
    {
     "name": "stdout",
     "output_type": "stream",
     "text": [
      "\n",
      "\n",
      "Testing roc curve\n"
     ]
    },
    {
     "data": {
      "image/png": "[encoded data removed]",
      "text/plain": [
       "<Figure size 432x360 with 1 Axes>"
      ]
     },
     "metadata": {},
     "output_type": "display_data"
    }
   ],
   "source": [
    "print(\"Training roc curve\")\n",
    "build_auc_plot(classifiers, X_train, Y_train)\n",
    "\n",
    "print(\"\\n\\nTesting roc curve\")\n",
    "build_auc_plot(classifiers, X_test, Y_test)"
   ]
  }
 ],
 "metadata": {
  "colab": {
   "collapsed_sections": [
    "KtMUlgwx39T4",
    "66c93345",
    "2NRPf-up2SGY",
    "xnAFLkYC2Zrn",
    "vCCVFE93f4oW",
    "azGgZCd7Kpac",
    "Fncl9HPaK6t5"
   ],
   "name": "Final_Project_FDS.ipynb",
   "provenance": [],
   "toc_visible": true
  },
  "kernelspec": {
   "display_name": "Python 3 (ipykernel)",
   "language": "python",
   "name": "python3"
  },
  "language_info": {
   "codemirror_mode": {
    "name": "ipython",
    "version": 3
   },
   "file_extension": ".py",
   "mimetype": "text/x-python",
   "name": "python",
   "nbconvert_exporter": "python",
   "pygments_lexer": "ipython3",
   "version": "3.8.12"
  }
 },
 "nbformat": 4,
 "nbformat_minor": 5
}
